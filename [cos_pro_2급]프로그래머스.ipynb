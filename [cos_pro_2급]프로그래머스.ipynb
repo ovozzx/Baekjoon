{
  "nbformat": 4,
  "nbformat_minor": 0,
  "metadata": {
    "colab": {
      "name": "[cos pro 2급]프로그래머스.ipynb",
      "provenance": [],
      "collapsed_sections": [],
      "authorship_tag": "ABX9TyMAEgMFzIWziOTU3gtyAeQ/",
      "include_colab_link": true
    },
    "kernelspec": {
      "name": "python3",
      "display_name": "Python 3"
    },
    "language_info": {
      "name": "python"
    }
  },
  "cells": [
    {
      "cell_type": "markdown",
      "metadata": {
        "id": "view-in-github",
        "colab_type": "text"
      },
      "source": [
        "<a href=\"https://colab.research.google.com/github/ovozzx/Baekjoon/blob/main/%5Bcos_pro_2%EA%B8%89%5D%ED%94%84%EB%A1%9C%EA%B7%B8%EB%9E%98%EB%A8%B8%EC%8A%A4.ipynb\" target=\"_parent\"><img src=\"https://colab.research.google.com/assets/colab-badge.svg\" alt=\"Open In Colab\"/></a>"
      ]
    },
    {
      "cell_type": "markdown",
      "source": [
        "#**✓ 파트 1** (5문제)\n",
        "\n",
        "###빈칸 채우기\n",
        "\n",
        "\n",
        "---\n",
        "코드 이해(프로그램 구현)\n",
        "\n"
      ],
      "metadata": {
        "id": "bSCbnOqV329S"
      }
    },
    {
      "cell_type": "markdown",
      "source": [
        "- 1번 : \bn부터 m까지 자연수의 합"
      ],
      "metadata": {
        "id": "WEdM_xbNhozp"
      }
    },
    {
      "cell_type": "code",
      "source": [
        "def func_a(k):\n",
        "    sum = 0\n",
        "    for i in range(1, k+1):\n",
        "        sum += i\n",
        "\n",
        "    return sum\n",
        "\n",
        "def solution(n, m):\n",
        "    sum_to_m = func_a(m)\n",
        "    sum_to_n = func_a(n-1)\n",
        "    answer = sum_to_m - sum_to_n\n",
        "    return answer"
      ],
      "metadata": {
        "id": "e7R4WjNhhpBm"
      },
      "execution_count": 6,
      "outputs": []
    },
    {
      "cell_type": "markdown",
      "source": [
        "- 2번 : \b총점"
      ],
      "metadata": {
        "id": "axHf0T7KgPMX"
      }
    },
    {
      "cell_type": "code",
      "source": [
        "def func_a(s):\n",
        "    ret = 0\n",
        "    for i in s:\n",
        "        if i > ret:\n",
        "            ret = i\n",
        "    return ret\n",
        "\n",
        "def func_b(s):\n",
        "    ret = 0\n",
        "    for i in s:\n",
        "        ret += i\n",
        "    return ret\n",
        "\n",
        "def func_c(s):\n",
        "    ret = 101\n",
        "    for i in s:\n",
        "        if i < ret:\n",
        "            ret = i\n",
        "    return ret\n",
        "\n",
        "\n",
        "def solution(scores):\n",
        "    sum = func_b(scores)\n",
        "    max_score = func_a(scores)\n",
        "    min_score = func_c(scores)\n",
        "    return sum - max_score - min_score"
      ],
      "metadata": {
        "id": "quZm1sw7gQWN"
      },
      "execution_count": 7,
      "outputs": []
    },
    {
      "cell_type": "markdown",
      "source": [
        "- 3번 : 공항 방문객"
      ],
      "metadata": {
        "id": "KpVKn7uTgPeF"
      }
    },
    {
      "cell_type": "code",
      "source": [
        "def func_a(arr, n):\n",
        "    ret = []\n",
        "    for x in arr:\n",
        "        if x != n:\n",
        "            ret.append(x)\n",
        "    return ret\n",
        "\n",
        "def func_b(a, b):\n",
        "    if a >= b:\n",
        "        return a - b\n",
        "    else:\n",
        "        return b - a\n",
        "\n",
        "def func_c(arr):\n",
        "    ret = -1\n",
        "    for x in arr:\n",
        "        if ret < x:\n",
        "            ret = x\n",
        "    return ret\n",
        "\n",
        "def solution(visitor):\n",
        "    max_first = func_c(visitor)\n",
        "    visitor_removed = func_a(visitor,  max_first)\n",
        "    max_second = func_c(visitor_removed)\n",
        "    answer = func_b(max_first, max_second)\n",
        "    return answer"
      ],
      "metadata": {
        "id": "2PpxhZ7zgQ0F"
      },
      "execution_count": 8,
      "outputs": []
    },
    {
      "cell_type": "markdown",
      "source": [
        "- 4번 : 학점 계산"
      ],
      "metadata": {
        "id": "6iBq118YgPoB"
      }
    },
    {
      "cell_type": "code",
      "source": [
        "def solution(scores):\n",
        "    grade_counter = [0 for i in range(5)]\n",
        "    for x in scores:\n",
        "        if 85 <= x <= 100:\n",
        "            grade_counter[0] += 1\n",
        "        elif 70 <= x <= 84:\n",
        "            grade_counter[1] += 1\n",
        "        elif 55 <= x <= 69:\n",
        "            grade_counter[2] += 1\n",
        "        elif 40 <= x <= 54:\n",
        "            grade_counter[3] += 1\n",
        "        else:\n",
        "            grade_counter[4] += 1\n",
        "    return grade_counter"
      ],
      "metadata": {
        "id": "73xOoIPigROH"
      },
      "execution_count": 9,
      "outputs": []
    },
    {
      "cell_type": "markdown",
      "source": [
        "- 5번 : 개구리"
      ],
      "metadata": {
        "id": "E0C3SEYHgPy1"
      }
    },
    {
      "cell_type": "code",
      "execution_count": 10,
      "metadata": {
        "id": "2ROkr7l73ufx"
      },
      "outputs": [],
      "source": [
        "def solution(stones):\n",
        "    cnt = 0\n",
        "    current = 0\n",
        "    n = len(stones)\n",
        "\n",
        "    while current < n:\n",
        "        current += stones[current]\n",
        "        cnt += 1\n",
        "        \n",
        "    return cnt    "
      ]
    },
    {
      "cell_type": "markdown",
      "source": [
        "#**✓ 파트 2** (3문제)\n",
        "\n",
        "###한 줄 수정(이미 완성된 코드에서 버그 찾아 수정)\n",
        "\n",
        "\n",
        "---\n",
        "\n",
        "디버깅(프로그램 검사 및 수정)\n"
      ],
      "metadata": {
        "id": "gjM3f4rT4VbQ"
      }
    },
    {
      "cell_type": "markdown",
      "source": [
        "- 1번 : 키가 K보다 큰 사람"
      ],
      "metadata": {
        "id": "WPeHqcILfhlx"
      }
    },
    {
      "cell_type": "code",
      "source": [
        "def solution(height, k):\n",
        "    answer = 0\n",
        "    n = len(height)\n",
        "    for h in height:\n",
        "        if h > k:\n",
        "            answer += 1\n",
        "    return answer"
      ],
      "metadata": {
        "id": "OKaDyRVCfpuk"
      },
      "execution_count": 11,
      "outputs": []
    },
    {
      "cell_type": "markdown",
      "source": [
        "- 2번 : 알파벳 바꾸기"
      ],
      "metadata": {
        "id": "6n4dfsbOfh4E"
      }
    },
    {
      "cell_type": "code",
      "source": [
        "def solution(s):\n",
        "    s_lst = list(s)\n",
        "    n = len(s)\n",
        "    for i in range(n):\n",
        "        if s_lst[i] == 'a':\n",
        "            s_lst[i] = 'z'\n",
        "        elif s_lst[i] == 'z':\n",
        "            s_lst[i] =  'a'\n",
        "    return \"\".join(s_lst)"
      ],
      "metadata": {
        "id": "t1mamyDRf3ca"
      },
      "execution_count": 12,
      "outputs": []
    },
    {
      "cell_type": "markdown",
      "source": [
        "- 3번 : 이름에 \"j\" 또는 \"k\"가 들어가는 사람"
      ],
      "metadata": {
        "id": "G-Y--qvCfkx6"
      }
    },
    {
      "cell_type": "code",
      "source": [
        "def solution(name_list):\n",
        "    answer = 0\n",
        "    for name in name_list:\n",
        "        for n in name:\n",
        "            if n == 'j' or n == 'k':\n",
        "                answer += 1\n",
        "                break\n",
        "    return answer"
      ],
      "metadata": {
        "id": "jnZjvF24fzJD"
      },
      "execution_count": 13,
      "outputs": []
    },
    {
      "cell_type": "markdown",
      "source": [
        "#**✓ 파트 3** (2문제)\n",
        "\n",
        "###함수 작성\n",
        "\n",
        "\n",
        "---\n",
        "\n",
        "설계(프로그램 설계 및 이해)\n"
      ],
      "metadata": {
        "id": "_ZofZxYU44CT"
      }
    },
    {
      "cell_type": "markdown",
      "source": [
        "- 1번 : 거스름돈"
      ],
      "metadata": {
        "id": "UcMvYY-R5nsz"
      }
    },
    {
      "cell_type": "code",
      "source": [
        "def solution(price, money):\n",
        "    \n",
        "    if money < sum(price):\n",
        "       answer = -1\n",
        "    else :\n",
        "        answer = money-sum(price)\n",
        "    \n",
        "    return answer"
      ],
      "metadata": {
        "id": "7NAa_38m5i6H"
      },
      "execution_count": 14,
      "outputs": []
    },
    {
      "cell_type": "markdown",
      "source": [
        "- 2번 : k번째로 작은 수"
      ],
      "metadata": {
        "id": "s0UMCWI95rh-"
      }
    },
    {
      "cell_type": "code",
      "source": [
        "#가로길이 -> 4로 고정\n",
        "#세로길이 -> k\n",
        "\n",
        "def solution(arr, k):\n",
        "    \n",
        "    new_arr = []\n",
        "    for i in range (0,len(arr)):\n",
        "        for j in range(0,4):\n",
        "            new_arr.append(arr[i][j])\n",
        "\n",
        "    new_arr.sort()\n",
        "    \n",
        "    answer = new_arr[k-1]\n",
        "    return answer\n",
        "\n"
      ],
      "metadata": {
        "id": "KpcxPFfu5ML7"
      },
      "execution_count": 15,
      "outputs": []
    }
  ]
}