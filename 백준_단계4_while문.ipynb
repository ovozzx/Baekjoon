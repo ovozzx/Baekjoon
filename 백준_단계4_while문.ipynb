{
  "nbformat": 4,
  "nbformat_minor": 0,
  "metadata": {
    "colab": {
      "name": "백준_단계4_while문.ipynb",
      "provenance": [],
      "collapsed_sections": [],
      "authorship_tag": "ABX9TyMAlfNwQqGPPhLIX7tAe/Fq",
      "include_colab_link": true
    },
    "kernelspec": {
      "name": "python3",
      "display_name": "Python 3"
    },
    "language_info": {
      "name": "python"
    }
  },
  "cells": [
    {
      "cell_type": "markdown",
      "metadata": {
        "id": "view-in-github",
        "colab_type": "text"
      },
      "source": [
        "<a href=\"https://colab.research.google.com/github/ovozzx/Baekjoon/blob/main/%E1%84%87%E1%85%A2%E1%86%A8%E1%84%8C%E1%85%AE%E1%86%AB_%E1%84%83%E1%85%A1%E1%86%AB%E1%84%80%E1%85%A84_while%EB%AC%B8.ipynb\" target=\"_parent\"><img src=\"https://colab.research.google.com/assets/colab-badge.svg\" alt=\"Open In Colab\"/></a>"
      ]
    },
    {
      "cell_type": "markdown",
      "source": [
        "# 1. 문제 번호 : 10952\t[A+B - 5]\n",
        "\n",
        "0 0이 들어올 때까지 A+B를 출력하는 문제\n",
        "\n",
        "두 정수 A와 B를 입력받은 다음, A+B를 출력하는 프로그램을 작성"
      ],
      "metadata": {
        "id": "vx2VabyROsJ2"
      }
    },
    {
      "cell_type": "code",
      "source": [
        "while(1) :\n",
        "  A, B = map(int, input().split())\n",
        "\n",
        "  if A == 0 & B == 0 :\n",
        "    break\n",
        "\n",
        "  print(A+B)\n"
      ],
      "metadata": {
        "colab": {
          "base_uri": "https://localhost:8080/"
        },
        "id": "e_HyNI3tOsWE",
        "outputId": "390daf36-c78e-4a60-b937-4d83ca740299"
      },
      "execution_count": 20,
      "outputs": [
        {
          "name": "stdout",
          "output_type": "stream",
          "text": [
            "1 1\n",
            "2\n",
            "0 0\n"
          ]
        }
      ]
    },
    {
      "cell_type": "markdown",
      "source": [
        "\n",
        "# 2. 문제 번호 : 10951\t[A+B-4]\n",
        "\n",
        "입력이 끝날 때까지 A+B를 출력하는 문제 (EOF에 대해 알아 보자)\n",
        "\n",
        "두 정수 A와 B를 입력받은 다음, A+B를 출력하는 프로그램을 작성\n",
        "\n",
        "\n",
        "---\n",
        "\n",
        "\n",
        "\n",
        "✓ 예외 처리\n",
        "\n",
        "입력이 있을 땐 계속 입력을 받아와서 원하는 연산을 진행하고, EOFError가 발생하면 반복문을 빠져나옴\n",
        "\n",
        " 입력 도중에 파일의 끝을 만나면 EOFError가 발생! (EOF: 파일의 끝(End of File))\n",
        "\n",
        "\n",
        "\n",
        " - 기본\n",
        "```\n",
        "  try:   \n",
        "  except:\n",
        "```\n",
        "  이 경우는 오류 종류에 상관없이 오류가 발생하면 except 블록을 수행\n",
        "\n",
        "- 발생 오류\n",
        "```\n",
        "  try:     \n",
        "  except 발생 오류:\n",
        "```      \n",
        "  이 경우는 오류가 발생했을 때 except문에 미리 정해 놓은 오류 이름과 **일치**할 때만 except 블록을  수행\n",
        "\n",
        "- 발생 오류 & 오류 메시지 변수\n",
        "```\n",
        "  try:\n",
        "      \n",
        "  except 발생 오류 as 오류 메시지 변수:\n",
        "```      \n",
        "  오류 메시지의 내용까지 알고 싶을 때 사용하는 방법\n",
        "\n"
      ],
      "metadata": {
        "id": "lMbhpAKvRt_e"
      }
    },
    {
      "cell_type": "code",
      "source": [
        "\n",
        "while 1:\n",
        "    try:\n",
        "        A, B = map(int, input().split())\n",
        "        print(A+B)\n",
        "\n",
        "    except EOFError:\n",
        "        #print(\"오류발생\") \n",
        "        break"
      ],
      "metadata": {
        "colab": {
          "base_uri": "https://localhost:8080/",
          "height": 322
        },
        "id": "3ki4kbrFRskD",
        "outputId": "82d0f6f7-930e-4389-b92e-80ef61f71d5b"
      },
      "execution_count": 18,
      "outputs": [
        {
          "name": "stdout",
          "output_type": "stream",
          "text": [
            "1 1\n",
            "2\n",
            "2 2\n",
            "4\n",
            "\n"
          ]
        },
        {
          "output_type": "error",
          "ename": "ValueError",
          "evalue": "ignored",
          "traceback": [
            "\u001b[0;31m---------------------------------------------------------------------------\u001b[0m",
            "\u001b[0;31mValueError\u001b[0m                                Traceback (most recent call last)",
            "\u001b[0;32m<ipython-input-18-a0f15c8da0c4>\u001b[0m in \u001b[0;36m<module>\u001b[0;34m()\u001b[0m\n\u001b[1;32m      2\u001b[0m \u001b[0;32mwhile\u001b[0m \u001b[0;36m1\u001b[0m\u001b[0;34m:\u001b[0m\u001b[0;34m\u001b[0m\u001b[0;34m\u001b[0m\u001b[0m\n\u001b[1;32m      3\u001b[0m     \u001b[0;32mtry\u001b[0m\u001b[0;34m:\u001b[0m\u001b[0;34m\u001b[0m\u001b[0;34m\u001b[0m\u001b[0m\n\u001b[0;32m----> 4\u001b[0;31m         \u001b[0mA\u001b[0m\u001b[0;34m,\u001b[0m \u001b[0mB\u001b[0m \u001b[0;34m=\u001b[0m \u001b[0mmap\u001b[0m\u001b[0;34m(\u001b[0m\u001b[0mint\u001b[0m\u001b[0;34m,\u001b[0m \u001b[0minput\u001b[0m\u001b[0;34m(\u001b[0m\u001b[0;34m)\u001b[0m\u001b[0;34m.\u001b[0m\u001b[0msplit\u001b[0m\u001b[0;34m(\u001b[0m\u001b[0;34m)\u001b[0m\u001b[0;34m)\u001b[0m\u001b[0;34m\u001b[0m\u001b[0;34m\u001b[0m\u001b[0m\n\u001b[0m\u001b[1;32m      5\u001b[0m         \u001b[0mprint\u001b[0m\u001b[0;34m(\u001b[0m\u001b[0mA\u001b[0m\u001b[0;34m+\u001b[0m\u001b[0mB\u001b[0m\u001b[0;34m)\u001b[0m\u001b[0;34m\u001b[0m\u001b[0;34m\u001b[0m\u001b[0m\n\u001b[1;32m      6\u001b[0m \u001b[0;34m\u001b[0m\u001b[0m\n",
            "\u001b[0;31mValueError\u001b[0m: not enough values to unpack (expected 2, got 0)"
          ]
        }
      ]
    },
    {
      "cell_type": "markdown",
      "source": [
        "# 3. 문제 번호 : 1110\t[더하기 사이클]\n",
        "원래 수로 돌아올 때까지 연산을 반복하는 문제\n",
        "\n",
        "N이 주어졌을 때, N의 사이클의 길이를 구하는 프로그램을 작성\n"
      ],
      "metadata": {
        "id": "gbxbV2NSVMF0"
      }
    },
    {
      "cell_type": "code",
      "source": [
        "a=\"123\"\n",
        "print(a[0]+a[2])"
      ],
      "metadata": {
        "colab": {
          "base_uri": "https://localhost:8080/"
        },
        "id": "JplKk8N6BdUl",
        "outputId": "3444e578-b1e1-4420-c797-fbf77a776acb"
      },
      "execution_count": null,
      "outputs": [
        {
          "output_type": "stream",
          "name": "stdout",
          "text": [
            "13\n"
          ]
        }
      ]
    },
    {
      "cell_type": "code",
      "source": [
        "a = input()\n",
        "\n",
        "print(a[0])\n",
        "print(a[1])"
      ],
      "metadata": {
        "colab": {
          "base_uri": "https://localhost:8080/"
        },
        "id": "kExj1iVrCMRx",
        "outputId": "7ff6d877-0f0a-4f4f-a6b5-7e95c7a4be6c"
      },
      "execution_count": null,
      "outputs": [
        {
          "output_type": "stream",
          "name": "stdout",
          "text": [
            "26\n",
            "2\n",
            "6\n"
          ]
        }
      ]
    },
    {
      "cell_type": "code",
      "source": [
        "N = int(input())\n",
        "count = 0\n",
        "ori = N\n",
        "\n",
        "while 1 : \n",
        "\n",
        "  count +=1   \n",
        "  sum = N//10+N%10 \n",
        "  new = N%10*10+sum%10 \n",
        "\n",
        "  print(\"---\")\n",
        "  print(N)\n",
        "  print(sum)\n",
        "  print(new)\n",
        "\n",
        "\n",
        "  if ori == new  :\n",
        "    print(\"***\")    \n",
        "    print(count)\n",
        "    break\n",
        "\n",
        "  N = new\n",
        "\n",
        "\n",
        " \n",
        "\n",
        "\n",
        "\n",
        "\n",
        "\n",
        "\n",
        "\n",
        "\n",
        "\n",
        "\n",
        "  \n"
      ],
      "metadata": {
        "colab": {
          "base_uri": "https://localhost:8080/"
        },
        "id": "tAF503nKqhk-",
        "outputId": "61014663-7a12-4033-f3be-92043a37cd1f"
      },
      "execution_count": 21,
      "outputs": [
        {
          "output_type": "stream",
          "name": "stdout",
          "text": [
            "26\n",
            "---\n",
            "26\n",
            "8\n",
            "68\n",
            "---\n",
            "68\n",
            "14\n",
            "84\n",
            "---\n",
            "84\n",
            "12\n",
            "42\n",
            "---\n",
            "42\n",
            "6\n",
            "26\n",
            "***\n",
            "4\n"
          ]
        }
      ]
    }
  ]
}
