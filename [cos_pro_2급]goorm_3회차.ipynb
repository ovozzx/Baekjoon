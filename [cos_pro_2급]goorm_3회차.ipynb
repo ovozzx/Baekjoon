{
  "nbformat": 4,
  "nbformat_minor": 0,
  "metadata": {
    "colab": {
      "name": "[cos pro 2급]goorm_3회차.ipynb",
      "provenance": [],
      "authorship_tag": "ABX9TyMHwrnP+uXZtD0PVmBIkHmO",
      "include_colab_link": true
    },
    "kernelspec": {
      "name": "python3",
      "display_name": "Python 3"
    },
    "language_info": {
      "name": "python"
    }
  },
  "cells": [
    {
      "cell_type": "markdown",
      "metadata": {
        "id": "view-in-github",
        "colab_type": "text"
      },
      "source": [
        "<a href=\"https://colab.research.google.com/github/ovozzx/Baekjoon/blob/main/%5Bcos_pro_2%EA%B8%89%5Dgoorm_3%ED%9A%8C%EC%B0%A8.ipynb\" target=\"_parent\"><img src=\"https://colab.research.google.com/assets/colab-badge.svg\" alt=\"Open In Colab\"/></a>"
      ]
    },
    {
      "cell_type": "markdown",
      "source": [
        "remove : 리스트 요소 제거\n",
        "\n",
        "요소 in 배열 : 배열에 요소가 있으면 True "
      ],
      "metadata": {
        "id": "BiGsFUWJLzAK"
      }
    },
    {
      "cell_type": "code",
      "execution_count": null,
      "metadata": {
        "id": "O6ZYLxJHLwne"
      },
      "outputs": [],
      "source": [
        ""
      ]
    }
  ]
}