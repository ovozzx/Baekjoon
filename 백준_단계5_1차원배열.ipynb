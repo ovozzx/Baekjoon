{
  "nbformat": 4,
  "nbformat_minor": 0,
  "metadata": {
    "colab": {
      "name": "백준_단계5_1차원배열.ipynb",
      "provenance": [],
      "collapsed_sections": [],
      "authorship_tag": "ABX9TyOmG3PypWQSQS8ESr8QjArs",
      "include_colab_link": true
    },
    "kernelspec": {
      "name": "python3",
      "display_name": "Python 3"
    },
    "language_info": {
      "name": "python"
    }
  },
  "cells": [
    {
      "cell_type": "markdown",
      "metadata": {
        "id": "view-in-github",
        "colab_type": "text"
      },
      "source": [
        "<a href=\"https://colab.research.google.com/github/ovozzx/Baekjoon/blob/main/%E1%84%87%E1%85%A2%E1%86%A8%E1%84%8C%E1%85%AE%E1%86%AB_%E1%84%83%E1%85%A1%E1%86%AB%E1%84%80%E1%85%A85_1%EC%B0%A8%EC%9B%90%EB%B0%B0%EC%97%B4.ipynb\" target=\"_parent\"><img src=\"https://colab.research.google.com/assets/colab-badge.svg\" alt=\"Open In Colab\"/></a>"
      ]
    },
    {
      "cell_type": "markdown",
      "source": [
        "#1.\t문제 번호 : 10818\t[최소, 최대]\n",
        "\n",
        "최솟값과 최댓값을 찾는 문제\n",
        "\n",
        "N개의 정수가 주어진다. 이때, 최솟값과 최댓값을 구하는 프로그램을 작성하시오.\n",
        "\n"
      ],
      "metadata": {
        "id": "Lw_cRpEnTMR4"
      }
    },
    {
      "cell_type": "code",
      "execution_count": null,
      "metadata": {
        "id": "KxV8DjU1je5G",
        "colab": {
          "base_uri": "https://localhost:8080/"
        },
        "outputId": "428f2472-e211-429b-b361-e4fbdea055ce"
      },
      "outputs": [
        {
          "output_type": "stream",
          "name": "stdout",
          "text": [
            "5\n",
            "20 10 35 30 7\n",
            "7 35\n"
          ]
        }
      ],
      "source": [
        "#런타임 에러!!!\n",
        "import numpy as np\n",
        "\n",
        "num_arr = []\n",
        "n = int(input())\n",
        "num = list(map(int, input().split()))\n",
        "\n",
        "for i in range(0, n) :   \n",
        "  num_arr.append(num[i])\n",
        "\n",
        "print(np.min(num_arr),np.max(num_arr))\n",
        "\n"
      ]
    },
    {
      "cell_type": "code",
      "source": [
        "\n",
        "num_arr = []\n",
        "n = int(input())\n",
        "num = list(map(int, input().split()))\n",
        "\n",
        "for i in range(0, n) :   \n",
        "  num_arr.append(num[i])\n",
        "\n",
        "print(min(num_arr),max(num_arr))\n",
        "\n"
      ],
      "metadata": {
        "colab": {
          "base_uri": "https://localhost:8080/"
        },
        "id": "3d69aA3EZSUt",
        "outputId": "afc2765f-60ce-4d85-daf1-c56f0bdb1614"
      },
      "execution_count": null,
      "outputs": [
        {
          "output_type": "stream",
          "name": "stdout",
          "text": [
            "5\n",
            "20 10 35 30 7\n",
            "7 35\n"
          ]
        }
      ]
    },
    {
      "cell_type": "markdown",
      "source": [
        "#2.\t문제 번호 : 2562\t[최댓값]\n",
        "\n",
        "최댓값이 어디에 있는지 찾는 문제\n",
        "\n",
        "9개의 서로 다른 자연수가 주어질 때, 이들 중 최댓값을 찾고 그 최댓값이 몇 번째 수인지를 구하는 프로그램을 작성하시오.\n",
        "\n",
        "\n",
        "\n"
      ],
      "metadata": {
        "id": "cumSGm1EZrc2"
      }
    },
    {
      "cell_type": "code",
      "source": [
        "n9 = []\n",
        "\n",
        "for i in range(0,9) :\n",
        "  n = int(input())\n",
        "  n9.append(n)\n",
        "\n",
        "print(max(n9))\n",
        "print(n9.index(max(n9))+1)  "
      ],
      "metadata": {
        "colab": {
          "base_uri": "https://localhost:8080/"
        },
        "id": "pAlvEL_RZ5Jh",
        "outputId": "86d68f8c-4369-4d25-a022-b811f7d7ffa5"
      },
      "execution_count": null,
      "outputs": [
        {
          "output_type": "stream",
          "name": "stdout",
          "text": [
            "3\n",
            "29\n",
            "38\n",
            "12\n",
            "57\n",
            "74\n",
            "40\n",
            "85\n",
            "61\n",
            "85\n",
            "8\n"
          ]
        }
      ]
    },
    {
      "cell_type": "markdown",
      "source": [
        "string.find(찾을 문자)\n",
        "\n",
        "string.find(찾을 문자, 시작 Index)\n",
        "\n",
        "string.find(찾을 문자, 시작 Index, 끝 Index)\n",
        "\n",
        "찾는 문자가 존재 한다면 해당 위치의 **index**를 반환해주고\n",
        "\n",
        "찾는 문자가 존재 하지 않는다면 **-1** 을 반환합니다.\n"
      ],
      "metadata": {
        "id": "LDNUDqFhgjgP"
      }
    },
    {
      "cell_type": "code",
      "source": [
        "\n",
        "n9 = []\n",
        "\n",
        "for i in range(0,3) : \n",
        "  n = int(input())\n",
        "  n9.append(n)\n",
        "\n",
        "print(max(n9))\n",
        "print(n9.find(max(n9))+1) # find는 문자열에서! 리스트 X\n",
        "\n"
      ],
      "metadata": {
        "colab": {
          "base_uri": "https://localhost:8080/",
          "height": 270
        },
        "id": "kbuL4Ssbe-3F",
        "outputId": "b112ee3b-bea3-48c9-de0f-ac9900fe2cc3"
      },
      "execution_count": null,
      "outputs": [
        {
          "output_type": "stream",
          "name": "stdout",
          "text": [
            "1\n",
            "2\n",
            "3\n",
            "3\n"
          ]
        },
        {
          "output_type": "error",
          "ename": "AttributeError",
          "evalue": "ignored",
          "traceback": [
            "\u001b[0;31m---------------------------------------------------------------------------\u001b[0m",
            "\u001b[0;31mAttributeError\u001b[0m                            Traceback (most recent call last)",
            "\u001b[0;32m<ipython-input-18-8a09dcfe2900>\u001b[0m in \u001b[0;36m<module>\u001b[0;34m()\u001b[0m\n\u001b[1;32m      6\u001b[0m \u001b[0;34m\u001b[0m\u001b[0m\n\u001b[1;32m      7\u001b[0m \u001b[0mprint\u001b[0m\u001b[0;34m(\u001b[0m\u001b[0mmax\u001b[0m\u001b[0;34m(\u001b[0m\u001b[0mn9\u001b[0m\u001b[0;34m)\u001b[0m\u001b[0;34m)\u001b[0m\u001b[0;34m\u001b[0m\u001b[0;34m\u001b[0m\u001b[0m\n\u001b[0;32m----> 8\u001b[0;31m \u001b[0mprint\u001b[0m\u001b[0;34m(\u001b[0m\u001b[0mn9\u001b[0m\u001b[0;34m.\u001b[0m\u001b[0mfind\u001b[0m\u001b[0;34m(\u001b[0m\u001b[0mmax\u001b[0m\u001b[0;34m(\u001b[0m\u001b[0mn9\u001b[0m\u001b[0;34m)\u001b[0m\u001b[0;34m)\u001b[0m\u001b[0;34m+\u001b[0m\u001b[0;36m1\u001b[0m\u001b[0;34m)\u001b[0m\u001b[0;34m\u001b[0m\u001b[0;34m\u001b[0m\u001b[0m\n\u001b[0m",
            "\u001b[0;31mAttributeError\u001b[0m: 'list' object has no attribute 'find'"
          ]
        }
      ]
    },
    {
      "cell_type": "markdown",
      "source": [
        "#3.\t문제 번호 : 2577\t[숫자의 개수]\n",
        "\n",
        "각 숫자가 몇 번 나왔는지 저장하기 위해 일차원 배열을 만드는 문제\n",
        "\n",
        "세 개의 자연수 A, B, C가 주어질 때 A × B × C를 계산한 결과에 0부터 9까지 각각의 숫자가 몇 번씩 쓰였는지를 구하는 프로그램을 작성하시오."
      ],
      "metadata": {
        "id": "Yc0TS2O8Zttl"
      }
    },
    {
      "cell_type": "code",
      "source": [
        "A = input()\n",
        "B = input()\n",
        "C = input()\n",
        "\n",
        "Num = list(str(int(A)*int(B)*int(C)))\n",
        "\n",
        "for i in range(0,10) : \n",
        "  print(Num.count(str(i))) #count → list로 해야 가능, 문자열 X"
      ],
      "metadata": {
        "colab": {
          "base_uri": "https://localhost:8080/"
        },
        "id": "ppQPjZOqhyW8",
        "outputId": "f80f2e5a-940d-4f56-de30-6a0ad4e6347e"
      },
      "execution_count": null,
      "outputs": [
        {
          "output_type": "stream",
          "name": "stdout",
          "text": [
            "150\n",
            "266\n",
            "427\n",
            "3\n",
            "1\n",
            "0\n",
            "2\n",
            "0\n",
            "0\n",
            "0\n",
            "2\n",
            "0\n",
            "0\n"
          ]
        }
      ]
    },
    {
      "cell_type": "code",
      "source": [
        "A = input()\n",
        "B = input()\n",
        "C = input()\n",
        "\n",
        "Num = list(int(A)*int(B)*int(C)) #int → 리스트 변환 X ?\n",
        "\n",
        "for i in range(0,10) : \n",
        "  print(Num.count(i)) #count → list로 해야 가능, 문자열 X"
      ],
      "metadata": {
        "colab": {
          "base_uri": "https://localhost:8080/",
          "height": 288
        },
        "id": "6NJlYZUOnbBR",
        "outputId": "73f4bd45-c1b7-4b79-c0f9-177872de6d98"
      },
      "execution_count": null,
      "outputs": [
        {
          "name": "stdout",
          "output_type": "stream",
          "text": [
            "150\n",
            "266\n",
            "427\n"
          ]
        },
        {
          "output_type": "error",
          "ename": "TypeError",
          "evalue": "ignored",
          "traceback": [
            "\u001b[0;31m---------------------------------------------------------------------------\u001b[0m",
            "\u001b[0;31mTypeError\u001b[0m                                 Traceback (most recent call last)",
            "\u001b[0;32m<ipython-input-35-db82d75a2a06>\u001b[0m in \u001b[0;36m<module>\u001b[0;34m()\u001b[0m\n\u001b[1;32m      3\u001b[0m \u001b[0mC\u001b[0m \u001b[0;34m=\u001b[0m \u001b[0minput\u001b[0m\u001b[0;34m(\u001b[0m\u001b[0;34m)\u001b[0m\u001b[0;34m\u001b[0m\u001b[0;34m\u001b[0m\u001b[0m\n\u001b[1;32m      4\u001b[0m \u001b[0;34m\u001b[0m\u001b[0m\n\u001b[0;32m----> 5\u001b[0;31m \u001b[0mNum\u001b[0m \u001b[0;34m=\u001b[0m \u001b[0mlist\u001b[0m\u001b[0;34m(\u001b[0m\u001b[0mint\u001b[0m\u001b[0;34m(\u001b[0m\u001b[0mA\u001b[0m\u001b[0;34m)\u001b[0m\u001b[0;34m*\u001b[0m\u001b[0mint\u001b[0m\u001b[0;34m(\u001b[0m\u001b[0mB\u001b[0m\u001b[0;34m)\u001b[0m\u001b[0;34m*\u001b[0m\u001b[0mint\u001b[0m\u001b[0;34m(\u001b[0m\u001b[0mC\u001b[0m\u001b[0;34m)\u001b[0m\u001b[0;34m)\u001b[0m\u001b[0;34m\u001b[0m\u001b[0;34m\u001b[0m\u001b[0m\n\u001b[0m\u001b[1;32m      6\u001b[0m \u001b[0;34m\u001b[0m\u001b[0m\n\u001b[1;32m      7\u001b[0m \u001b[0;32mfor\u001b[0m \u001b[0mi\u001b[0m \u001b[0;32min\u001b[0m \u001b[0mrange\u001b[0m\u001b[0;34m(\u001b[0m\u001b[0;36m0\u001b[0m\u001b[0;34m,\u001b[0m\u001b[0;36m10\u001b[0m\u001b[0;34m)\u001b[0m \u001b[0;34m:\u001b[0m\u001b[0;34m\u001b[0m\u001b[0;34m\u001b[0m\u001b[0m\n",
            "\u001b[0;31mTypeError\u001b[0m: 'int' object is not iterable"
          ]
        }
      ]
    },
    {
      "cell_type": "code",
      "source": [
        "a = [1,1,2,3,1]\n",
        "print(a.count(1))"
      ],
      "metadata": {
        "colab": {
          "base_uri": "https://localhost:8080/"
        },
        "id": "VhAwx6A8jNcv",
        "outputId": "202a60dc-4466-49ca-bce5-69ed303223e3"
      },
      "execution_count": null,
      "outputs": [
        {
          "output_type": "stream",
          "name": "stdout",
          "text": [
            "3\n"
          ]
        }
      ]
    },
    {
      "cell_type": "markdown",
      "source": [
        "#4.\t문제 번호 : 3052\t[나머지]\n",
        "\n",
        "두 자연수 A와 B가 있을 때, A%B는 A를 B로 나눈 나머지 이다. 예를 들어, 7, 14, 27, 38을 3으로 나눈 나머지는 1, 2, 0, 2이다. \n",
        "\n",
        "수 10개를 입력받은 뒤, 이를 42로 나눈 나머지를 구한다. 그 다음 서로 다른 값이 몇 개 있는지 출력하는 프로그램을 작성하시오.\n",
        "\n",
        "- set(집합) 자료 구조 : 중복 불가능, 순서가 없다\n",
        "\n",
        "\n"
      ],
      "metadata": {
        "id": "J7oke2knhssV"
      }
    },
    {
      "cell_type": "code",
      "source": [
        "\n",
        "rest = []\n",
        "\n",
        "\n",
        "for i in range(0,10) : \n",
        "  n = int(input())\n",
        "  rest.append(n%42)\n",
        "\n",
        "rest = set(rest)\n",
        "print(len(rest))\n"
      ],
      "metadata": {
        "colab": {
          "base_uri": "https://localhost:8080/"
        },
        "id": "51El5uLfootV",
        "outputId": "12462c54-aefb-4492-d760-cf6eab34704a"
      },
      "execution_count": null,
      "outputs": [
        {
          "output_type": "stream",
          "name": "stdout",
          "text": [
            "39\n",
            "40\n",
            "41\n",
            "42\n",
            "43\n",
            "44\n",
            "82\n",
            "83\n",
            "84\n",
            "85\n",
            "6\n"
          ]
        }
      ]
    },
    {
      "cell_type": "markdown",
      "source": [
        "#5.\t문제 번호 : 1546\t[평균]\n",
        "\n",
        "평균을 조작하는 문제\n",
        "\n",
        "세준이는 기말고사를 망쳤다. 세준이는 점수를 조작해서 집에 가져가기로 했다. 일단 세준이는 자기 점수 중에 최댓값을 골랐다. 이 값을 M이라고 한다. 그리고 나서 모든 점수를 점수/M*100으로 고쳤다.\n",
        "\n",
        "예를 들어, 세준이의 최고점이 70이고, 수학점수가 50이었으면 수학점수는 50/70*100이 되어 71.43점이 된다.\n",
        "\n",
        "세준이의 성적을 위의 방법대로 새로 계산했을 때, 새로운 평균을 구하는 프로그램을 작성하시오."
      ],
      "metadata": {
        "id": "dajmDbnml8N_"
      }
    },
    {
      "cell_type": "code",
      "source": [
        "N = int(input())\n",
        "arr = list(map(int, input().split()))\n",
        "new_avg = []\n",
        "\n",
        "for i in range(0, N) :\n",
        "  new = arr[i]/max(arr)*100\n",
        "  new_avg.append(new)\n",
        "\n",
        "print(sum(new_avg)/N)"
      ],
      "metadata": {
        "colab": {
          "base_uri": "https://localhost:8080/"
        },
        "id": "oe8WlO4MzCrA",
        "outputId": "43379b74-a4d2-471f-fb17-5bc1d3c5f300"
      },
      "execution_count": null,
      "outputs": [
        {
          "output_type": "stream",
          "name": "stdout",
          "text": [
            "3\n",
            "10 20 30\n",
            "66.66666666666667\n"
          ]
        }
      ]
    },
    {
      "cell_type": "markdown",
      "source": [
        "#6.\t문제 번호 : 8958\t[OX퀴즈]\n",
        "\n",
        "OX 퀴즈의 결과를 일차원 배열로 입력받아 점수를 계산하는 문제\n",
        "\n",
        "\"OOXXOXXOOO\"와 같은 OX퀴즈의 결과가 있다. O는 문제를 맞은 것이고, X는 문제를 틀린 것이다. 문제를 맞은 경우 그 문제의 점수는 그 문제까지 연속된 O의 개수가 된다. 예를 들어, 10번 문제의 점수는 3이 된다.\n",
        "\n",
        "\"OOXXOXXOOO\"의 점수는 1+2+0+0+1+0+0+1+2+3 = 10점이다.\n",
        "\n",
        "OX퀴즈의 결과가 주어졌을 때, 점수를 구하는 프로그램을 작성하시오."
      ],
      "metadata": {
        "id": "r8mBzOh6l8Vl"
      }
    },
    {
      "cell_type": "code",
      "source": [
        "n = int(input())\n",
        "total = 0\n",
        "grade = 0\n",
        "\n",
        "for i in range(0, n) :\n",
        "  ox = input()\n",
        "  \n",
        "  for j in range(0, len(ox)) :\n",
        "    if ox[j] == 'O' :\n",
        "      grade += 1\n",
        "      total += grade\n",
        "\n",
        "    if ox[j] == 'X' :\n",
        "      grade = 0\n",
        "  \n",
        "  print(total)\n",
        "  total = 0\n",
        "  grade = 0"
      ],
      "metadata": {
        "colab": {
          "base_uri": "https://localhost:8080/"
        },
        "id": "xQ0cyvlw0lYU",
        "outputId": "e266afa9-36c7-4964-d1f7-577215cc0877"
      },
      "execution_count": null,
      "outputs": [
        {
          "output_type": "stream",
          "name": "stdout",
          "text": [
            "5\n",
            "OOXXOXXOOO\n",
            "10\n",
            "OOXXOOXXOO\n",
            "9\n",
            "OXOXOXOXOXOXOX\n",
            "7\n",
            "OOOOOOOOOO\n",
            "55\n",
            "OOOOXOOOOXOOOOX\n",
            "30\n"
          ]
        }
      ]
    },
    {
      "cell_type": "markdown",
      "source": [
        "#7. 문제 번호\t: 4344\t[평균은 넘겠지]\n",
        "\n",
        "대학생 새내기들의 90%는 자신이 반에서 평균은 넘는다고 생각한다. 당신은 그들에게 슬픈 진실을 알려줘야 한다.\n",
        "\n",
        "ㅋㅋ"
      ],
      "metadata": {
        "id": "n1dbEZ6nmaJ-"
      }
    },
    {
      "cell_type": "code",
      "source": [
        "#예약어를 변수로 사용하여 'int' object is not callable 에러 발생!!\n",
        "del sum #따라서 지워줌\n",
        "n = int(input())\n",
        "count = 0\n",
        "\n",
        "for i in range(0, n) :\n",
        "\n",
        "\n",
        "  score = list(map(int, input().split()))\n",
        "  avg = (sum(score)-score[0])/score[0]\n",
        "\n",
        "  for j in range(1, len(score)) :\n",
        "    if score[j] > avg :\n",
        "      count += 1\n",
        "\n",
        "  portion = count/score[0]*100\n",
        "  print(\"%.3f\" %portion, end = '')\n",
        "  print('%')\n",
        "  count = 0"
      ],
      "metadata": {
        "colab": {
          "base_uri": "https://localhost:8080/"
        },
        "id": "8ykxjl8XLb7o",
        "outputId": "1d35265c-e904-47ee-ce30-f4fa3571832b"
      },
      "execution_count": null,
      "outputs": [
        {
          "output_type": "stream",
          "name": "stdout",
          "text": [
            "5\n",
            "5 50 50 70 80 100\n",
            "40.000%\n",
            "7 100 95 90 80 70 60 50\n",
            "57.143%\n",
            "3 70 90 80\n",
            "33.333%\n",
            "3 70 90 81\n",
            "66.667%\n",
            "9 100 99 98 97 96 95 94 93 91\n",
            "55.556%\n"
          ]
        }
      ]
    }
  ]
}