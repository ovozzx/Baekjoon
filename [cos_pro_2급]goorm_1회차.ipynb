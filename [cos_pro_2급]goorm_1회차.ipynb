{
  "nbformat": 4,
  "nbformat_minor": 0,
  "metadata": {
    "colab": {
      "name": "[cos pro 2급]goorm_1회차.ipynb",
      "provenance": [],
      "collapsed_sections": [],
      "authorship_tag": "ABX9TyPIflhvpEPf/1rnZ1DmU9m4",
      "include_colab_link": true
    },
    "kernelspec": {
      "name": "python3",
      "display_name": "Python 3"
    },
    "language_info": {
      "name": "python"
    }
  },
  "cells": [
    {
      "cell_type": "markdown",
      "metadata": {
        "id": "view-in-github",
        "colab_type": "text"
      },
      "source": [
        "<a href=\"https://colab.research.google.com/github/ovozzx/Baekjoon/blob/main/%5Bcos_pro_2%EA%B8%89%5Dgoorm_1%ED%9A%8C%EC%B0%A8.ipynb\" target=\"_parent\"><img src=\"https://colab.research.google.com/assets/colab-badge.svg\" alt=\"Open In Colab\"/></a>"
      ]
    },
    {
      "cell_type": "markdown",
      "source": [
        "- remove : 리스트 요소 제거 -> 배열.remove(제거할 원소)\n",
        "\n",
        "- 요소 in 배열 : 배열에 요소가 있으면 True -> if 원소 in 배열 :\n",
        "\n",
        "- [0 for _ in range(n)] : n개의 0으로 이루어진 배열\n",
        "\n",
        "-> 0 배열에 더하는 식으로 count 만듦\n",
        "\n",
        "- zip\n",
        "\n",
        "- enumerate(n) \n",
        "\n",
        "반복문 사용 시 몇 번째 반복문인지 확인이 필요할 수 있습니다. 이때 사용합니다.\n",
        "\n",
        "인덱스 번호와 컬렉션의 원소를 **tuple형태**로 반환합니다. (인덱스 번호, 컬렉션 원소)\n",
        "\n",
        "(0, 1)\n",
        "\n",
        "(1, 5)\n",
        "\n",
        "(2, 7)\n",
        "\n",
        "- a =[1,2,3 ]\n",
        "a.sort(reverse = True)\n",
        "a\n"
      ],
      "metadata": {
        "id": "y9W9-aKIME3n"
      }
    },
    {
      "cell_type": "code",
      "source": [
        "def solution(schedule):\n",
        "\tanswer = []\n",
        "\tfor idx, i in enumerate(schedule):\n",
        "\t\tif i == 'X':\n",
        "\t\t\tanswer.append(idx+1)\n",
        "\treturn answer\n",
        "\n",
        "#enumerate(5)"
      ],
      "metadata": {
        "id": "ipQC3_FDg8m_"
      },
      "execution_count": null,
      "outputs": []
    },
    {
      "cell_type": "code",
      "source": [
        "arr = ['O', 'X', 'X']\n",
        "for idx, i in enumerate(arr):\n",
        "  print(idx, i)"
      ],
      "metadata": {
        "colab": {
          "base_uri": "https://localhost:8080/"
        },
        "id": "4Kq2CfpOhPyx",
        "outputId": "67c2c691-19a2-4020-f5de-1aca97adb0ee"
      },
      "execution_count": null,
      "outputs": [
        {
          "output_type": "stream",
          "name": "stdout",
          "text": [
            "0 O\n",
            "1 X\n",
            "2 X\n"
          ]
        }
      ]
    },
    {
      "cell_type": "code",
      "source": [
        "arr = ['O', 'X', 'X']\n",
        "for i in enumerate(arr):\n",
        "  print(i)"
      ],
      "metadata": {
        "colab": {
          "base_uri": "https://localhost:8080/"
        },
        "id": "GU1DUFCFh3Ok",
        "outputId": "8c43741c-5b9d-4ad9-d57d-67c1c174bcca"
      },
      "execution_count": null,
      "outputs": [
        {
          "output_type": "stream",
          "name": "stdout",
          "text": [
            "(0, 'O')\n",
            "(1, 'X')\n",
            "(2, 'X')\n"
          ]
        }
      ]
    },
    {
      "cell_type": "code",
      "source": [
        "arr = ['O', 'X', 'X']\n",
        "\n",
        "solution(arr)"
      ],
      "metadata": {
        "colab": {
          "base_uri": "https://localhost:8080/"
        },
        "id": "AXesQyTjhBxC",
        "outputId": "911b7d6a-1db0-47d4-f310-f7f64314a2b8"
      },
      "execution_count": null,
      "outputs": [
        {
          "output_type": "execute_result",
          "data": {
            "text/plain": [
              "[2, 3]"
            ]
          },
          "metadata": {},
          "execution_count": 8
        }
      ]
    },
    {
      "cell_type": "code",
      "source": [
        "def func_a(passed, non_passed):\n",
        "\t  return ( passed > 1 and non_passed ==0 )"
      ],
      "metadata": {
        "id": "S7m7aQGJgtQX"
      },
      "execution_count": null,
      "outputs": []
    },
    {
      "cell_type": "code",
      "source": [
        "func_a(2,0)"
      ],
      "metadata": {
        "colab": {
          "base_uri": "https://localhost:8080/"
        },
        "id": "QKCNFwupgwYp",
        "outputId": "741d401e-abb1-4858-f457-0bff078f969e"
      },
      "execution_count": null,
      "outputs": [
        {
          "output_type": "execute_result",
          "data": {
            "text/plain": [
              "True"
            ]
          },
          "metadata": {},
          "execution_count": 3
        }
      ]
    },
    {
      "cell_type": "code",
      "source": [
        "func_a(2,0)+func_a(2,0)"
      ],
      "metadata": {
        "colab": {
          "base_uri": "https://localhost:8080/"
        },
        "id": "fW3zU-64g3Dm",
        "outputId": "1fb7b92c-fba2-4484-bf2c-9299f856f15b"
      },
      "execution_count": null,
      "outputs": [
        {
          "output_type": "execute_result",
          "data": {
            "text/plain": [
              "2"
            ]
          },
          "metadata": {},
          "execution_count": 4
        }
      ]
    },
    {
      "cell_type": "code",
      "execution_count": null,
      "metadata": {
        "id": "SBGHuZlTmn3a",
        "colab": {
          "base_uri": "https://localhost:8080/"
        },
        "outputId": "be61575a-bc0f-43a4-9727-7f5b1557ef20"
      },
      "outputs": [
        {
          "output_type": "execute_result",
          "data": {
            "text/plain": [
              "1"
            ]
          },
          "metadata": {},
          "execution_count": 1
        }
      ],
      "source": [
        "min(1,1)"
      ]
    },
    {
      "cell_type": "code",
      "source": [
        "a =[1,2,3 ]\n",
        "a.sort(reverse = True)\n",
        "a"
      ],
      "metadata": {
        "colab": {
          "base_uri": "https://localhost:8080/"
        },
        "id": "_95B8USEaYJL",
        "outputId": "baf023b6-64dc-45a7-fe8a-fc7774e2a029"
      },
      "execution_count": null,
      "outputs": [
        {
          "output_type": "execute_result",
          "data": {
            "text/plain": [
              "[3, 2, 1]"
            ]
          },
          "metadata": {},
          "execution_count": 4
        }
      ]
    },
    {
      "cell_type": "code",
      "source": [
        ""
      ],
      "metadata": {
        "id": "ySsCz2R5aafh"
      },
      "execution_count": null,
      "outputs": []
    }
  ]
}