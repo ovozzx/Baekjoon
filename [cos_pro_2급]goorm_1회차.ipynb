{
  "nbformat": 4,
  "nbformat_minor": 0,
  "metadata": {
    "colab": {
      "name": "[cos pro 2급]goorm_1회차.ipynb",
      "provenance": [],
      "authorship_tag": "ABX9TyOpwnTJ5B/IEa1slS5zzK/4",
      "include_colab_link": true
    },
    "kernelspec": {
      "name": "python3",
      "display_name": "Python 3"
    },
    "language_info": {
      "name": "python"
    }
  },
  "cells": [
    {
      "cell_type": "markdown",
      "metadata": {
        "id": "view-in-github",
        "colab_type": "text"
      },
      "source": [
        "<a href=\"https://colab.research.google.com/github/ovozzx/Baekjoon/blob/main/%5Bcos_pro_2%EA%B8%89%5Dgoorm_1%ED%9A%8C%EC%B0%A8.ipynb\" target=\"_parent\"><img src=\"https://colab.research.google.com/assets/colab-badge.svg\" alt=\"Open In Colab\"/></a>"
      ]
    },
    {
      "cell_type": "markdown",
      "source": [
        "remove : 리스트 요소 제거\n",
        "\n",
        "요소 in 배열 : 배열에 요소가 있으면 True \n",
        "\n",
        "[0 for _ in range(n)] : n개의 0으로 이루어진 배열\n",
        "\n",
        "-> 0 배열에 더하는 식으로 count 만듦"
      ],
      "metadata": {
        "id": "y9W9-aKIME3n"
      }
    },
    {
      "cell_type": "code",
      "execution_count": null,
      "metadata": {
        "id": "SBGHuZlTmn3a"
      },
      "outputs": [],
      "source": [
        ""
      ]
    }
  ]
}