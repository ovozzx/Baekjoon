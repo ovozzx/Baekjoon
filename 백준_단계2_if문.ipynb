{
  "nbformat": 4,
  "nbformat_minor": 0,
  "metadata": {
    "colab": {
      "name": "백준_단계2_if문.ipynb",
      "provenance": [],
      "collapsed_sections": [],
      "authorship_tag": "ABX9TyPm6dFMZB/u+Ap9zAZStXpb",
      "include_colab_link": true
    },
    "kernelspec": {
      "name": "python3",
      "display_name": "Python 3"
    },
    "language_info": {
      "name": "python"
    }
  },
  "cells": [
    {
      "cell_type": "markdown",
      "metadata": {
        "id": "view-in-github",
        "colab_type": "text"
      },
      "source": [
        "<a href=\"https://colab.research.google.com/github/ovozzx/Baekjoon/blob/main/%E1%84%87%E1%85%A2%E1%86%A8%E1%84%8C%E1%85%AE%E1%86%AB_%E1%84%83%E1%85%A1%E1%86%AB%E1%84%80%E1%85%A82_if%EB%AC%B8.ipynb\" target=\"_parent\"><img src=\"https://colab.research.google.com/assets/colab-badge.svg\" alt=\"Open In Colab\"/></a>"
      ]
    },
    {
      "cell_type": "markdown",
      "source": [
        "#1.\t문제번호 : 1330\t[두 수 비교하기]"
      ],
      "metadata": {
        "id": "9M0-eYYFKHFD"
      }
    },
    {
      "cell_type": "code",
      "execution_count": null,
      "metadata": {
        "id": "oKutjqSGJScf"
      },
      "outputs": [],
      "source": [
        "a, b = map(int, input().split())\n",
        "if a > b:\n",
        "    print(\">\")\n",
        "if a < b:\n",
        "    print(\"<\")\n",
        "if a == b:\n",
        "    print(\"==\")    \n",
        "    "
      ]
    },
    {
      "cell_type": "markdown",
      "source": [
        "#2.\t문제번호 : 9498\t[시험 성적]\n",
        "\n",
        "시험 점수를 입력받아 90 ~ 100점은 A, 80 ~ 89점은 B, 70 ~ 79점은 C, 60 ~ 69점은 D, 나머지 점수는 F를 출력하는 프로그램을 작성하시오."
      ],
      "metadata": {
        "id": "z34fkYghKaKM"
      }
    },
    {
      "cell_type": "code",
      "source": [
        "score = int(input(\"점수를 입력하시오:\"))\n",
        "\n",
        "if 0 <= score <=100 :\n",
        "  if 90 <= score <= 100:\n",
        "    print(\"A\")\n",
        "  elif 80 <= score <= 89:\n",
        "    print(\"B\")\n",
        "  elif 70 <= score <= 79:\n",
        "    print(\"C\")\n",
        "  elif 60 <= score <= 69:\n",
        "    print(\"D\")  \n",
        "  else :\n",
        "    print(\"F\")  \n"
      ],
      "metadata": {
        "colab": {
          "base_uri": "https://localhost:8080/"
        },
        "id": "9yvwyHL6Kjtu",
        "outputId": "37e127ce-3ef7-45d3-fa4f-ea0ba7359e6b"
      },
      "execution_count": 7,
      "outputs": [
        {
          "output_type": "stream",
          "name": "stdout",
          "text": [
            "점수를 입력하시오:100\n",
            "A\n"
          ]
        }
      ]
    },
    {
      "cell_type": "markdown",
      "source": [
        "#3.\t문제번호 : 2753\t[윤년]\n",
        "1) 윤년은 연도가 4의 배수이면서, 100의 배수가 아닐 때 \n",
        "\n",
        "2) 또는 400의 배수일 때"
      ],
      "metadata": {
        "id": "NHyRpR3TNWOh"
      }
    },
    {
      "cell_type": "code",
      "source": [
        "year = int(input())\n",
        "\n",
        "if (( year % 4 == 0) & ( year % 100 != 0)) | ( year % 400 == 0) :\n",
        "  print(1)\n",
        "else : \n",
        "  print(0)"
      ],
      "metadata": {
        "colab": {
          "base_uri": "https://localhost:8080/"
        },
        "id": "C_3vBqGVNerG",
        "outputId": "088221f9-8b15-4a94-da15-323af0b54136"
      },
      "execution_count": 10,
      "outputs": [
        {
          "output_type": "stream",
          "name": "stdout",
          "text": [
            "2000\n",
            "1\n"
          ]
        }
      ]
    },
    {
      "cell_type": "markdown",
      "source": [
        "#4.\t문제번호 : 14681\t[사분면 고르기]"
      ],
      "metadata": {
        "id": "8pKBJ1y-PhVu"
      }
    },
    {
      "cell_type": "code",
      "source": [
        "x = int(input())\n",
        "y = int(input())\n",
        "\n",
        "if(x>0) & (y>0) :\n",
        "  print(1)\n",
        "if(x<0) & (y>0) :\n",
        "  print(2)\n",
        "if(x<0) & (y<0) :\n",
        "  print(3)\n",
        "if(x>0) & (y<0) :\n",
        "  print(4)    \n"
      ],
      "metadata": {
        "colab": {
          "base_uri": "https://localhost:8080/"
        },
        "id": "T66WKzwGPod9",
        "outputId": "43d70bde-2609-45f7-950c-7e37fbb3d079"
      },
      "execution_count": 12,
      "outputs": [
        {
          "output_type": "stream",
          "name": "stdout",
          "text": [
            "12\n",
            "5\n",
            "1\n"
          ]
        }
      ]
    },
    {
      "cell_type": "markdown",
      "source": [
        "#5.\t문제번호 : 2884\t[알람 시계]\n",
        "45분 일찍 알람 설정하기\n",
        "\n",
        "24시간 형태"
      ],
      "metadata": {
        "id": "vtZLhV_tQpU4"
      }
    },
    {
      "cell_type": "code",
      "source": [
        "hour, min = map(int, input().split())\n",
        "\n",
        "min = min - 45\n",
        "\n",
        "if min < 0 :\n",
        "  hour = hour - 1\n",
        "  min = min + 60\n",
        "  if hour < 0 :\n",
        "    hour = hour + 24\n",
        "\n",
        "print(hour, min)"
      ],
      "metadata": {
        "colab": {
          "base_uri": "https://localhost:8080/"
        },
        "id": "kz8L02KPQ151",
        "outputId": "b489e4e4-aa81-4485-f1d1-9fccc741f46e"
      },
      "execution_count": 24,
      "outputs": [
        {
          "output_type": "stream",
          "name": "stdout",
          "text": [
            "23 40\n",
            "22 55\n"
          ]
        }
      ]
    }
  ]
}