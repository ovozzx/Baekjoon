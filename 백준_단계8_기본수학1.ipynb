{
  "nbformat": 4,
  "nbformat_minor": 0,
  "metadata": {
    "colab": {
      "name": "백준_단계8_기본수학1.ipynb",
      "provenance": [],
      "collapsed_sections": [],
      "authorship_tag": "ABX9TyOhBLqYk/+Z+oQ8xrwH1S3l",
      "include_colab_link": true
    },
    "kernelspec": {
      "name": "python3",
      "display_name": "Python 3"
    },
    "language_info": {
      "name": "python"
    }
  },
  "cells": [
    {
      "cell_type": "markdown",
      "metadata": {
        "id": "view-in-github",
        "colab_type": "text"
      },
      "source": [
        "<a href=\"https://colab.research.google.com/github/ovozzx/Baekjoon/blob/main/%E1%84%87%E1%85%A2%E1%86%A8%E1%84%8C%E1%85%AE%E1%86%AB_%E1%84%83%E1%85%A1%E1%86%AB%E1%84%80%E1%85%A88_%EA%B8%B0%EB%B3%B8%EC%88%98%ED%95%991.ipynb\" target=\"_parent\"><img src=\"https://colab.research.google.com/assets/colab-badge.svg\" alt=\"Open In Colab\"/></a>"
      ]
    },
    {
      "cell_type": "markdown",
      "source": [
        "## 💡 전체에서 반복문마다 변수값을 빼는 알고리즘 활용!"
      ],
      "metadata": {
        "id": "LDQFXpCIJm_m"
      }
    },
    {
      "cell_type": "markdown",
      "source": [
        "#1. 문제 번호 : 1712\t[손익분기점]\t\n",
        "\n",
        "### - 이익이 발생하는 지점을 찾는 문제\n",
        "\n",
        "월드전자는 노트북을 제조하고 판매하는 회사이다. 노트북 판매 대수에 상관없이 매년 임대료, 재산세, 보험료, 급여 등 A만원의 고정 비용이 들며, 한 대의 노트북을 생산하는 데에는 재료비와 인건비 등 총 B만원의 가변 비용이 든다고 한다.\n",
        "\n",
        "예를 들어 A=1,000, B=70이라고 하자. 이 경우 노트북을 한 대 생산하는 데는 총 1,070만원이 들며, 열 대 생산하는 데는 총 1,700만원이 든다.\n",
        "\n",
        "노트북 가격이 C만원으로 책정되었다고 한다. 일반적으로 생산 대수를 늘려 가다 보면 어느 순간 총 수입(판매비용)이 총 비용(=고정비용+가변비용)보다 많아지게 된다. 최초로 총 수입이 총 비용보다 **많아져** 이익이 발생하는 지점을 손익분기점(BREAK-EVEN POINT)이라고 한다.\n",
        "\n",
        "A, B, C가 주어졌을 때, 손익분기점을 구하는 프로그램을 작성하시오."
      ],
      "metadata": {
        "id": "SImsBZWoawPM"
      }
    },
    {
      "cell_type": "code",
      "source": [
        "A, B, C = map(int, input().split())\n",
        "\n",
        "if C<=B :\n",
        "  print(-1)\n",
        "else :\n",
        "  print(A//(C-B)+1)\n",
        "\n",
        " "
      ],
      "metadata": {
        "colab": {
          "base_uri": "https://localhost:8080/"
        },
        "id": "Mw5pBKG28w75",
        "outputId": "28f58c3d-b139-41f5-a5a9-e07edeaf4e15"
      },
      "execution_count": null,
      "outputs": [
        {
          "output_type": "stream",
          "name": "stdout",
          "text": [
            "3 2 1\n",
            "-1\n"
          ]
        }
      ]
    },
    {
      "cell_type": "markdown",
      "source": [
        "\n",
        "#2. 문제 번호 : 2292\t[벌집]\t\n",
        "\n",
        "### - 벌집이 형성되는 규칙에 따라 벌집의 위치를 구하는 문제\n",
        "\n",
        "위의 그림과 같이 육각형으로 이루어진 벌집이 있다. 그림에서 보는 바와 같이 중앙의 방 1부터 시작해서 이웃하는 방에 돌아가면서 1씩 증가하는 번호를 주소로 매길 수 있다. 숫자 N이 주어졌을 때, 벌집의 중앙 1에서 N번 방까지 최소 개수의 방을 지나서 갈 때 몇 개의 방을 지나가는지(시작과 끝을 포함하여)를 계산하는 프로그램을 작성하시오. 예를 들면, 13까지는 3개, 58까지는 5개를 지난다.\n",
        "\n",
        "\n",
        "\n"
      ],
      "metadata": {
        "id": "K1mH-IPr387y"
      }
    },
    {
      "cell_type": "markdown",
      "source": [
        "\n",
        "1(1):  1\n",
        "\n",
        "2~7(6=6*1) : 2\n",
        "\n",
        "8~19(12=6*2) : 3\n",
        "\n",
        "20~37(18=6*3) :  4\n",
        "\n",
        "38~61 (24=6*4) : 5\n",
        "\n",
        "..."
      ],
      "metadata": {
        "id": "AWNlZPbIWMlW"
      }
    },
    {
      "cell_type": "code",
      "source": [
        "n = int(input())\n",
        "\n",
        "start = 1\n",
        "end = 1\n",
        "flag = 0\n",
        "count = 0\n",
        "\n",
        "while flag == 0 :\n",
        "  \n",
        "  if n == 1 :\n",
        "    flag = 1\n",
        "    break\n",
        "  \n",
        "  elif start <= n <= end :\n",
        "  \n",
        "    flag = 1\n",
        "    break\n",
        "\n",
        "  count+=1\n",
        "  start = end + 1 \n",
        "  end = start+6*count-1\n",
        "\n",
        "\n",
        "print(count+1)\n",
        "\n"
      ],
      "metadata": {
        "colab": {
          "base_uri": "https://localhost:8080/"
        },
        "id": "0Ayl3FXn4eJA",
        "outputId": "97f60109-7340-40af-f168-8bd262402ec2"
      },
      "execution_count": null,
      "outputs": [
        {
          "output_type": "stream",
          "name": "stdout",
          "text": [
            "58\n",
            "5\n"
          ]
        }
      ]
    },
    {
      "cell_type": "markdown",
      "source": [
        "#❌다시\n",
        "\n",
        "#3. 문제 번호 : 1193\t[분수찾기]\t\n",
        "\n",
        "분수의 순서에서 규칙을 찾는 문제\n",
        "\n",
        "\n",
        "\n",
        "\n"
      ],
      "metadata": {
        "id": "gSimqnZ74aav"
      }
    },
    {
      "cell_type": "markdown",
      "source": [
        "1/1\t1/2\t1/3\t1/4\t1/5\t…\n",
        "\n",
        "2/1\t2/2\t2/3\t2/4\t…\t…\n",
        "\n",
        "3/1\t3/2\t3/3\t…\t…\t…\n",
        "\n",
        "4/1\t4/2\t…\t…\t…\t…\n",
        "\n",
        "\n",
        "5/1\t…\t…\t…\t…\t…\n",
        "\n",
        "…\t…\t…\t…\t…\t…\n",
        "\n",
        "\n",
        "이와 같이 나열된 분수들을 1/1 → 1/2 → 2/1 → 3/1 → 2/2 → "
      ],
      "metadata": {
        "id": "RfJiiGPziZYC"
      }
    },
    {
      "cell_type": "code",
      "source": [
        "print(\"{0}\" .format(2))\n",
        "print(\"{0}/{1}\" .format(1,1))"
      ],
      "metadata": {
        "colab": {
          "base_uri": "https://localhost:8080/"
        },
        "id": "QRwSR6vVkM4r",
        "outputId": "e9b00320-2bd0-4cf2-cf07-ecd996cb8c4e"
      },
      "execution_count": null,
      "outputs": [
        {
          "output_type": "stream",
          "name": "stdout",
          "text": [
            "2\n",
            "1/1\n"
          ]
        }
      ]
    },
    {
      "cell_type": "code",
      "source": [
        "#답\n",
        "\n",
        "#[1/1], [1/2, 2/1], [3/1, 2/2, 1/3], [1/4, 2/3, 3/2, 4/1] \n",
        "#  1        2             3 ==> line\n",
        "X=int(input())\n",
        "\n",
        "line=1\n",
        "\n",
        "#while은 조건이 아닌 경우를 한 번 포함하고 끝남!\n",
        "while X>line: #X가 line 보다 작거나 같아지면 나옴\n",
        "    X-=line  \n",
        "    line+=1  \n",
        "    print('X :', X, 'line :', line)\n",
        "    \n",
        "if line%2==0:\n",
        "    ja=X\n",
        "    mo=line-X+1\n",
        "else:\n",
        "    ja=line-X+1\n",
        "    mo=X\n",
        "    \n",
        "print(f\"{ja}/{mo}\")"
      ],
      "metadata": {
        "colab": {
          "base_uri": "https://localhost:8080/"
        },
        "id": "LYDe32sP-QDj",
        "outputId": "d9b82f3c-6e43-44b6-dd45-24090c33b978"
      },
      "execution_count": 13,
      "outputs": [
        {
          "output_type": "stream",
          "name": "stdout",
          "text": [
            "9\n",
            "X : 8 line : 2\n",
            "X : 6 line : 3\n",
            "X : 3 line : 4\n",
            "3/2\n"
          ]
        }
      ]
    },
    {
      "cell_type": "code",
      "source": [
        "#시간 초과 나옴\n",
        "arr = ['1/1']\n",
        "X = int(input())\n",
        "ja = 0\n",
        "mo = 0\n",
        "num = 2\n",
        "\n",
        "for i in range(2, X+1):\n",
        "\n",
        "  for j in range(1, num+1):\n",
        "    if num % 2 == 0 : #짝수면 분자 12 분모 21\n",
        "\n",
        "      if j == 1 :\n",
        "        mo = num  \n",
        "        ja = 1\n",
        "        arr.append(f'{ja}/{mo}')\n",
        "\n",
        "      else :    \n",
        "        ja += 1\n",
        "        mo -= 1\n",
        "        arr.append(f'{ja}/{mo}')\n",
        "    \n",
        "    else :\n",
        "\n",
        "      if j == 1 :\n",
        "        ja = num      \n",
        "        mo = 1\n",
        "        arr.append(f'{ja}/{mo}')\n",
        "      else : \n",
        "        ja -= 1\n",
        "        mo += 1\n",
        "        arr.append(f'{ja}/{mo}')\n",
        "    \n",
        "  num += 1\n",
        "\n",
        "\n",
        "\n",
        "\n",
        "print(arr)\n",
        "print(arr[X-1])\n",
        "\n",
        "#1  1 2  3 2 1\n",
        "#1  2 1  1 2 3"
      ],
      "metadata": {
        "colab": {
          "base_uri": "https://localhost:8080/"
        },
        "id": "8mZB-QOrE-ta",
        "outputId": "5e63ee2a-3692-4ad6-b907-0b5571b2dfe8"
      },
      "execution_count": 12,
      "outputs": [
        {
          "output_type": "stream",
          "name": "stdout",
          "text": [
            "10\n",
            "['1/1', '1/2', '2/1', '3/1', '2/2', '1/3', '1/4', '2/3', '3/2', '4/1', '5/1', '4/2', '3/3', '2/4', '1/5', '1/6', '2/5', '3/4', '4/3', '5/2', '6/1', '7/1', '6/2', '5/3', '4/4', '3/5', '2/6', '1/7', '1/8', '2/7', '3/6', '4/5', '5/4', '6/3', '7/2', '8/1', '9/1', '8/2', '7/3', '6/4', '5/5', '4/6', '3/7', '2/8', '1/9', '1/10', '2/9', '3/8', '4/7', '5/6', '6/5', '7/4', '8/3', '9/2', '10/1']\n",
            "4/1\n"
          ]
        }
      ]
    },
    {
      "cell_type": "code",
      "source": [
        "#시간 초과\n",
        "\n",
        "X = int(input())\n",
        "ja = 0\n",
        "mo = 0\n",
        "num = 2\n",
        "\n",
        "\n",
        "\n",
        "  for j in range(1, num+1):\n",
        "    if num % 2 == 0 : #짝수면 분자 12 분모 21\n",
        "\n",
        "      if j == 1 :\n",
        "        mo = num  \n",
        "        ja = 1\n",
        "        arr.append(f'{ja}/{mo}')\n",
        "\n",
        "      else :    \n",
        "        ja += 1\n",
        "        mo -= 1\n",
        "        arr.append(f'{ja}/{mo}')\n",
        "    \n",
        "    else :\n",
        "\n",
        "      if j == 1 :\n",
        "        ja = num      \n",
        "        mo = 1\n",
        "        arr.append(f'{ja}/{mo}')\n",
        "      else : \n",
        "        ja -= 1\n",
        "        mo += 1\n",
        "        arr.append(f'{ja}/{mo}')\n",
        "    \n",
        "  num += 1\n",
        "\n",
        "\n",
        "\n",
        "\n",
        "print(\bans)\n",
        "\n",
        "\n",
        "#1  1 2  3 2 1\n",
        "#1  2 1  1 2 3"
      ],
      "metadata": {
        "id": "oZi1CncGRHd4"
      },
      "execution_count": null,
      "outputs": []
    },
    {
      "cell_type": "markdown",
      "source": [
        "#❌다시\n",
        "\n",
        "#4. 문제 번호 : 2869\t[달팽이는 올라가고 싶다]\t\n",
        "\n",
        "달팽이의 움직임을 계산하는 문제\n",
        "\n",
        "\n",
        "---\n",
        "\n",
        "\n",
        "\n",
        "땅 위에 달팽이가 있다. 이 달팽이는 높이가 V미터인 나무 막대를 올라갈 것이다.\n",
        "\n",
        "달팽이는 낮에 A미터 올라갈 수 있다. 하지만, 밤에 잠을 자는 동안 B미터 미끄러진다. 또, 정상에 올라간 후에는 미끄러지지 않는다.\n",
        "\n",
        "달팽이가 나무 막대를 모두 올라가려면, 며칠이 걸리는지 구하는 프로그램을 작성하시오.\n",
        "\n"
      ],
      "metadata": {
        "id": "MeF0cEvF4bt2"
      }
    },
    {
      "cell_type": "markdown",
      "source": [
        "- math.ceil() : 올림\n",
        "\n",
        "- math.floor() : 내림\n",
        "\n",
        "- round(a,b) : 반올림 -> a는 숫자 b는 반올림할 자릿수\n"
      ],
      "metadata": {
        "id": "-qshQ6zrINVq"
      }
    },
    {
      "cell_type": "code",
      "source": [
        "#정답\n",
        "#낮 : A, 밤 : -B, 전체 : V\n",
        "\n",
        "import math\n",
        "\n",
        "A, B, V = map(int, input().split())\n",
        "\n",
        "day = (V - B) / (A - B) #정상에 도달했을 때 미끄러지지 않으므로, 미끄러지는 B만큼 빼주기\n",
        "\n",
        "print(math.ceil(day)) "
      ],
      "metadata": {
        "colab": {
          "base_uri": "https://localhost:8080/"
        },
        "id": "1AremtLqHOpe",
        "outputId": "0ae46ffa-3e0f-4506-d507-849271cbe97b"
      },
      "execution_count": 39,
      "outputs": [
        {
          "output_type": "stream",
          "name": "stdout",
          "text": [
            "100 99 1000000000\n",
            "999999901\n"
          ]
        }
      ]
    },
    {
      "cell_type": "markdown",
      "source": [
        "#5. 문제 번호 : 10250\t[ACM 호텔]\t\n",
        "\n",
        "호텔 방 번호의 규칙을 찾아 출력하는 문제\n",
        "\n",
        "\n",
        "---\n",
        "\n"
      ],
      "metadata": {
        "id": "YbPT7NwJ4c2C"
      }
    },
    {
      "cell_type": "code",
      "source": [
        "T = int(input())\n",
        "\n",
        "for i in range(0, T):\n",
        "  H, W, N = map(int, input().split())\n",
        "\n",
        "  if H>=N:\n",
        "    fl = N\n",
        "    ho = 1\n",
        "\n",
        "    print(f'{fl}0{ho}')\n",
        "\n",
        "\n",
        "  else :\n",
        "    fl = N%H    \n",
        "\n",
        "    if fl ==0 :\n",
        "      fl = H   \n",
        "      ho = N//H      \n",
        "      if ho >= 10:\n",
        "        print(f'{fl}{ho}')\n",
        "      else :\n",
        "        print(f'{fl}0{ho}')\n",
        "\n",
        "    else :\n",
        "      ho = N//H\n",
        "      if ho >= 10:\n",
        "        print(f'{fl}{ho+1}')\n",
        "      else :\n",
        "\n",
        "        if ho == 9 :\n",
        "          print(f'{fl}{ho+1}')\n",
        "        else :\n",
        "          print(f'{fl}0{ho+1}')\n",
        "\n",
        "\n",
        "\n"
      ],
      "metadata": {
        "id": "8gIMAUnQ4fZm",
        "colab": {
          "base_uri": "https://localhost:8080/"
        },
        "outputId": "09b04e7b-c59b-4673-b456-ef4dba32a77c"
      },
      "execution_count": 4,
      "outputs": [
        {
          "output_type": "stream",
          "name": "stdout",
          "text": [
            "2\n",
            "6 12 10\n",
            "402\n",
            "30 50 72\n",
            "1203\n"
          ]
        }
      ]
    },
    {
      "cell_type": "markdown",
      "source": [
        "#6. 문제 번호 : 2775\t[부녀회장이 될테야]\t\n",
        "\n",
        "층과 거주자 수의 규칙을 찾는 문제"
      ],
      "metadata": {
        "id": "9PDvGci84f4F"
      }
    },
    {
      "cell_type": "code",
      "source": [
        "#1 2 3 4\n",
        "#1 3 6 10\n",
        "#1 4 10 20\n",
        "\n",
        "T = int(input())\n",
        "\n",
        "arr = []\n",
        "\n",
        "\n",
        "for i in range(0,T):\n",
        "  k = int(input())\n",
        "  n = int(input())\n",
        "\n",
        "  arr_all = [[1, 2, 3, 4, 5, 6, 7, 8, 9, 10, 11, 12, 13, 14]]\n",
        "\n",
        "  for j in range(1, k+1) :\n",
        "    for m in range(0,14) :\n",
        "\n",
        "      arr.append(sum(arr_all[j-1][:m+1]))\n",
        "    \n",
        "    arr_all.append(arr)\n",
        "    arr = []\n",
        "\n",
        "  print(arr_all[k][n-1])\n",
        "\n"
      ],
      "metadata": {
        "colab": {
          "base_uri": "https://localhost:8080/"
        },
        "id": "zpKBkZSG6Ity",
        "outputId": "4454321f-4618-4a14-d8a2-3f59e2d28441"
      },
      "execution_count": 8,
      "outputs": [
        {
          "output_type": "stream",
          "name": "stdout",
          "text": [
            "2\n",
            "1\n",
            "3\n",
            "6\n",
            "2\n",
            "3\n",
            "10\n"
          ]
        }
      ]
    },
    {
      "cell_type": "markdown",
      "source": [
        "# ❌다시\n",
        "\n",
        "\n",
        "#7. 문제 번호 : 2839\t[설탕 배달]\t\n",
        "\n",
        "5와 3을 최소 횟수로 합하여 N을 만드는 문제"
      ],
      "metadata": {
        "id": "piZ-ck0m4qDD"
      }
    },
    {
      "cell_type": "markdown",
      "source": [
        "1) for - else -\n",
        "\n",
        "for :\n",
        "\n",
        "  실행문1\n",
        "\n",
        "else :\n",
        "\n",
        "  실행문2\n",
        "\n",
        "→ for문이 끝나게 되었을 때 실행\n",
        "\n",
        "✓ break 등으로 중간에 빠져나오지 않고 끝까지 실행 됐을 경우 실행되므로 이를 분별해줌!\n",
        "\n",
        "2) while - else -\n",
        "\n",
        "while 조건:\n",
        "\n",
        "  실행문1\n",
        "\n",
        "else : \n",
        "\n",
        "  실행문2\n",
        "\n",
        "→ while의 조건이 거짓이 되었을 때 실행"
      ],
      "metadata": {
        "id": "fHKnn9o1h04x"
      }
    },
    {
      "cell_type": "code",
      "source": [
        "#정답\n",
        "sugar = int(input())\n",
        "\n",
        "bag = 0\n",
        "while sugar >= 0 : #5 or 3을 빼서 0이 되는 애들만\n",
        "    if sugar % 5 == 0 :  # 5의 배수이면\n",
        "        bag += (sugar // 5)  # 5로 나눈 몫을 구해야 정수가 됨\n",
        "        print(bag)\n",
        "        break\n",
        "    sugar -= 3  \n",
        "    bag += 1  # 5의 배수가 될 때까지 설탕-3, 봉지+1\n",
        "else : # while의 조건문이 거짓으로 판정되어 while의 실행문이 수행되지 않을 때 수행\n",
        "    print(-1)"
      ],
      "metadata": {
        "id": "2pvGw1CpRD-u"
      },
      "execution_count": null,
      "outputs": []
    },
    {
      "cell_type": "code",
      "source": [
        "bag = 0\n",
        "\n",
        "for i in range(0,10):\n",
        "\n",
        "\n",
        "  sugar = int(input())\n",
        "  sugar0 = sugar\n",
        "\n",
        "\n",
        "\n",
        "  while sugar > 0 :\n",
        "    if sugar == sugar0:\n",
        "      bag = (sugar//5)\n",
        "      bag5 = bag\n",
        "      sugar -= (bag*5)\n",
        "    sugar -= 3\n",
        "    bag += 1\n",
        "\n",
        "  bag3 = bag-bag5\n",
        "\n",
        "  if sugar0 != bag5*5 + bag3*3:\n",
        "    bag = -1 \n",
        "\n",
        "  print(bag)\n",
        "\n"
      ],
      "metadata": {
        "colab": {
          "base_uri": "https://localhost:8080/",
          "height": 746
        },
        "id": "U3CyU4C1JlwB",
        "outputId": "60ae9eb2-287b-40e7-b1a4-2378604e42cc"
      },
      "execution_count": 9,
      "outputs": [
        {
          "output_type": "stream",
          "name": "stdout",
          "text": [
            "18\n",
            "4\n",
            "4\n",
            "-1\n",
            "6\n",
            "-1\n",
            "9\n",
            "-1\n",
            "11\n",
            "-1\n"
          ]
        },
        {
          "output_type": "error",
          "ename": "KeyboardInterrupt",
          "evalue": "ignored",
          "traceback": [
            "\u001b[0;31m---------------------------------------------------------------------------\u001b[0m",
            "\u001b[0;31mKeyboardInterrupt\u001b[0m                         Traceback (most recent call last)",
            "\u001b[0;32m/usr/local/lib/python3.7/dist-packages/ipykernel/kernelbase.py\u001b[0m in \u001b[0;36m_input_request\u001b[0;34m(self, prompt, ident, parent, password)\u001b[0m\n\u001b[1;32m    728\u001b[0m             \u001b[0;32mtry\u001b[0m\u001b[0;34m:\u001b[0m\u001b[0;34m\u001b[0m\u001b[0;34m\u001b[0m\u001b[0m\n\u001b[0;32m--> 729\u001b[0;31m                 \u001b[0mident\u001b[0m\u001b[0;34m,\u001b[0m \u001b[0mreply\u001b[0m \u001b[0;34m=\u001b[0m \u001b[0mself\u001b[0m\u001b[0;34m.\u001b[0m\u001b[0msession\u001b[0m\u001b[0;34m.\u001b[0m\u001b[0mrecv\u001b[0m\u001b[0;34m(\u001b[0m\u001b[0mself\u001b[0m\u001b[0;34m.\u001b[0m\u001b[0mstdin_socket\u001b[0m\u001b[0;34m,\u001b[0m \u001b[0;36m0\u001b[0m\u001b[0;34m)\u001b[0m\u001b[0;34m\u001b[0m\u001b[0;34m\u001b[0m\u001b[0m\n\u001b[0m\u001b[1;32m    730\u001b[0m             \u001b[0;32mexcept\u001b[0m \u001b[0mException\u001b[0m\u001b[0;34m:\u001b[0m\u001b[0;34m\u001b[0m\u001b[0;34m\u001b[0m\u001b[0m\n",
            "\u001b[0;32m/usr/local/lib/python3.7/dist-packages/jupyter_client/session.py\u001b[0m in \u001b[0;36mrecv\u001b[0;34m(self, socket, mode, content, copy)\u001b[0m\n\u001b[1;32m    802\u001b[0m         \u001b[0;32mtry\u001b[0m\u001b[0;34m:\u001b[0m\u001b[0;34m\u001b[0m\u001b[0;34m\u001b[0m\u001b[0m\n\u001b[0;32m--> 803\u001b[0;31m             \u001b[0mmsg_list\u001b[0m \u001b[0;34m=\u001b[0m \u001b[0msocket\u001b[0m\u001b[0;34m.\u001b[0m\u001b[0mrecv_multipart\u001b[0m\u001b[0;34m(\u001b[0m\u001b[0mmode\u001b[0m\u001b[0;34m,\u001b[0m \u001b[0mcopy\u001b[0m\u001b[0;34m=\u001b[0m\u001b[0mcopy\u001b[0m\u001b[0;34m)\u001b[0m\u001b[0;34m\u001b[0m\u001b[0;34m\u001b[0m\u001b[0m\n\u001b[0m\u001b[1;32m    804\u001b[0m         \u001b[0;32mexcept\u001b[0m \u001b[0mzmq\u001b[0m\u001b[0;34m.\u001b[0m\u001b[0mZMQError\u001b[0m \u001b[0;32mas\u001b[0m \u001b[0me\u001b[0m\u001b[0;34m:\u001b[0m\u001b[0;34m\u001b[0m\u001b[0;34m\u001b[0m\u001b[0m\n",
            "\u001b[0;32m/usr/local/lib/python3.7/dist-packages/zmq/sugar/socket.py\u001b[0m in \u001b[0;36mrecv_multipart\u001b[0;34m(self, flags, copy, track)\u001b[0m\n\u001b[1;32m    624\u001b[0m         \"\"\"\n\u001b[0;32m--> 625\u001b[0;31m         \u001b[0mparts\u001b[0m \u001b[0;34m=\u001b[0m \u001b[0;34m[\u001b[0m\u001b[0mself\u001b[0m\u001b[0;34m.\u001b[0m\u001b[0mrecv\u001b[0m\u001b[0;34m(\u001b[0m\u001b[0mflags\u001b[0m\u001b[0;34m,\u001b[0m \u001b[0mcopy\u001b[0m\u001b[0;34m=\u001b[0m\u001b[0mcopy\u001b[0m\u001b[0;34m,\u001b[0m \u001b[0mtrack\u001b[0m\u001b[0;34m=\u001b[0m\u001b[0mtrack\u001b[0m\u001b[0;34m)\u001b[0m\u001b[0;34m]\u001b[0m\u001b[0;34m\u001b[0m\u001b[0;34m\u001b[0m\u001b[0m\n\u001b[0m\u001b[1;32m    626\u001b[0m         \u001b[0;31m# have first part already, only loop while more to receive\u001b[0m\u001b[0;34m\u001b[0m\u001b[0;34m\u001b[0m\u001b[0;34m\u001b[0m\u001b[0m\n",
            "\u001b[0;32mzmq/backend/cython/socket.pyx\u001b[0m in \u001b[0;36mzmq.backend.cython.socket.Socket.recv\u001b[0;34m()\u001b[0m\n",
            "\u001b[0;32mzmq/backend/cython/socket.pyx\u001b[0m in \u001b[0;36mzmq.backend.cython.socket.Socket.recv\u001b[0;34m()\u001b[0m\n",
            "\u001b[0;32mzmq/backend/cython/socket.pyx\u001b[0m in \u001b[0;36mzmq.backend.cython.socket._recv_copy\u001b[0;34m()\u001b[0m\n",
            "\u001b[0;32m/usr/local/lib/python3.7/dist-packages/zmq/backend/cython/checkrc.pxd\u001b[0m in \u001b[0;36mzmq.backend.cython.checkrc._check_rc\u001b[0;34m()\u001b[0m\n",
            "\u001b[0;31mKeyboardInterrupt\u001b[0m: ",
            "\nDuring handling of the above exception, another exception occurred:\n",
            "\u001b[0;31mKeyboardInterrupt\u001b[0m                         Traceback (most recent call last)",
            "\u001b[0;32m<ipython-input-9-ae2352955d90>\u001b[0m in \u001b[0;36m<module>\u001b[0;34m()\u001b[0m\n\u001b[1;32m      4\u001b[0m \u001b[0;34m\u001b[0m\u001b[0m\n\u001b[1;32m      5\u001b[0m \u001b[0;34m\u001b[0m\u001b[0m\n\u001b[0;32m----> 6\u001b[0;31m   \u001b[0msugar\u001b[0m \u001b[0;34m=\u001b[0m \u001b[0mint\u001b[0m\u001b[0;34m(\u001b[0m\u001b[0minput\u001b[0m\u001b[0;34m(\u001b[0m\u001b[0;34m)\u001b[0m\u001b[0;34m)\u001b[0m\u001b[0;34m\u001b[0m\u001b[0;34m\u001b[0m\u001b[0m\n\u001b[0m\u001b[1;32m      7\u001b[0m   \u001b[0msugar0\u001b[0m \u001b[0;34m=\u001b[0m \u001b[0msugar\u001b[0m\u001b[0;34m\u001b[0m\u001b[0;34m\u001b[0m\u001b[0m\n\u001b[1;32m      8\u001b[0m \u001b[0;34m\u001b[0m\u001b[0m\n",
            "\u001b[0;32m/usr/local/lib/python3.7/dist-packages/ipykernel/kernelbase.py\u001b[0m in \u001b[0;36mraw_input\u001b[0;34m(self, prompt)\u001b[0m\n\u001b[1;32m    702\u001b[0m             \u001b[0mself\u001b[0m\u001b[0;34m.\u001b[0m\u001b[0m_parent_ident\u001b[0m\u001b[0;34m,\u001b[0m\u001b[0;34m\u001b[0m\u001b[0;34m\u001b[0m\u001b[0m\n\u001b[1;32m    703\u001b[0m             \u001b[0mself\u001b[0m\u001b[0;34m.\u001b[0m\u001b[0m_parent_header\u001b[0m\u001b[0;34m,\u001b[0m\u001b[0;34m\u001b[0m\u001b[0;34m\u001b[0m\u001b[0m\n\u001b[0;32m--> 704\u001b[0;31m             \u001b[0mpassword\u001b[0m\u001b[0;34m=\u001b[0m\u001b[0;32mFalse\u001b[0m\u001b[0;34m,\u001b[0m\u001b[0;34m\u001b[0m\u001b[0;34m\u001b[0m\u001b[0m\n\u001b[0m\u001b[1;32m    705\u001b[0m         )\n\u001b[1;32m    706\u001b[0m \u001b[0;34m\u001b[0m\u001b[0m\n",
            "\u001b[0;32m/usr/local/lib/python3.7/dist-packages/ipykernel/kernelbase.py\u001b[0m in \u001b[0;36m_input_request\u001b[0;34m(self, prompt, ident, parent, password)\u001b[0m\n\u001b[1;32m    732\u001b[0m             \u001b[0;32mexcept\u001b[0m \u001b[0mKeyboardInterrupt\u001b[0m\u001b[0;34m:\u001b[0m\u001b[0;34m\u001b[0m\u001b[0;34m\u001b[0m\u001b[0m\n\u001b[1;32m    733\u001b[0m                 \u001b[0;31m# re-raise KeyboardInterrupt, to truncate traceback\u001b[0m\u001b[0;34m\u001b[0m\u001b[0;34m\u001b[0m\u001b[0;34m\u001b[0m\u001b[0m\n\u001b[0;32m--> 734\u001b[0;31m                 \u001b[0;32mraise\u001b[0m \u001b[0mKeyboardInterrupt\u001b[0m\u001b[0;34m\u001b[0m\u001b[0;34m\u001b[0m\u001b[0m\n\u001b[0m\u001b[1;32m    735\u001b[0m             \u001b[0;32melse\u001b[0m\u001b[0;34m:\u001b[0m\u001b[0;34m\u001b[0m\u001b[0;34m\u001b[0m\u001b[0m\n\u001b[1;32m    736\u001b[0m                 \u001b[0;32mbreak\u001b[0m\u001b[0;34m\u001b[0m\u001b[0;34m\u001b[0m\u001b[0m\n",
            "\u001b[0;31mKeyboardInterrupt\u001b[0m: "
          ]
        }
      ]
    },
    {
      "cell_type": "markdown",
      "source": [
        "#8. 문제 번호 : 10757\t[큰 수 A+B]\t\n",
        "\n",
        "파이썬 같은 언어는 10,000자리 정도의 자연수도 자유롭게 다룰 수 있습니다. 하지만 C/C++이라면 이 문제를 어떻게 풀까요? C/C++ 사용자가 아니더라도 고민해 보면 좋을 것입니다."
      ],
      "metadata": {
        "id": "vp78rAzj4yMH"
      }
    },
    {
      "cell_type": "code",
      "source": [
        "A, B = map(int, input().split())\n",
        "\n",
        "print(A+B)"
      ],
      "metadata": {
        "id": "M3DouSCu48Lb",
        "colab": {
          "base_uri": "https://localhost:8080/"
        },
        "outputId": "4ded3c2b-bcaa-4c7e-ef23-8675341938b7"
      },
      "execution_count": 13,
      "outputs": [
        {
          "output_type": "stream",
          "name": "stdout",
          "text": [
            "9223372036854775807 9223372036854775808\n",
            "18446744073709551615\n"
          ]
        }
      ]
    },
    {
      "cell_type": "markdown",
      "source": [
        "#!!!다시\n",
        "\n",
        "#9. 문제 번호 : 1011\t[Fly me to the Alpha Centauri]\t\n",
        "\n",
        "거리에 따른 장치 사용 횟수를 출력하는 문제"
      ],
      "metadata": {
        "id": "QQrV0AZR48yH"
      }
    },
    {
      "cell_type": "code",
      "source": [
        "# k -> k-1/k/k+1\n",
        "#0 -> -1/0/1 => 1\n",
        "#1 -> 0/1/2 => \n",
        "#2 -> 1/2/3\n",
        "\n",
        "#시작은 1광년\n",
        "#도작치 전은 반드시 1광년\n",
        "\n",
        "n=0\n",
        "\n",
        "import math \n",
        "T = int(input())\n",
        "cnt = 0\n",
        "\n",
        "for i in range(0, T):\n",
        "  x, y = map(int, input().split())\n",
        "  distance = (y-x)-2\n",
        "  \n",
        "  cnt = math.ceil(distance/2)\n",
        "  distance -= n\n",
        "  \n",
        "  if distance != 0:\n",
        "    n+=1\n",
        "  \n",
        "\n",
        "  print(cnt+2)\n",
        "\n"
      ],
      "metadata": {
        "id": "2WTg7KC95FH6",
        "colab": {
          "base_uri": "https://localhost:8080/",
          "height": 659
        },
        "outputId": "09f579e2-300f-4ff6-f4ca-ee4b71d41005"
      },
      "execution_count": 4,
      "outputs": [
        {
          "output_type": "stream",
          "name": "stdout",
          "text": [
            "5\n",
            "0 2\n",
            "2\n",
            "0 1\n",
            "2\n"
          ]
        },
        {
          "output_type": "error",
          "ename": "KeyboardInterrupt",
          "evalue": "ignored",
          "traceback": [
            "\u001b[0;31m---------------------------------------------------------------------------\u001b[0m",
            "\u001b[0;31mKeyboardInterrupt\u001b[0m                         Traceback (most recent call last)",
            "\u001b[0;32m/usr/local/lib/python3.7/dist-packages/ipykernel/kernelbase.py\u001b[0m in \u001b[0;36m_input_request\u001b[0;34m(self, prompt, ident, parent, password)\u001b[0m\n\u001b[1;32m    728\u001b[0m             \u001b[0;32mtry\u001b[0m\u001b[0;34m:\u001b[0m\u001b[0;34m\u001b[0m\u001b[0;34m\u001b[0m\u001b[0m\n\u001b[0;32m--> 729\u001b[0;31m                 \u001b[0mident\u001b[0m\u001b[0;34m,\u001b[0m \u001b[0mreply\u001b[0m \u001b[0;34m=\u001b[0m \u001b[0mself\u001b[0m\u001b[0;34m.\u001b[0m\u001b[0msession\u001b[0m\u001b[0;34m.\u001b[0m\u001b[0mrecv\u001b[0m\u001b[0;34m(\u001b[0m\u001b[0mself\u001b[0m\u001b[0;34m.\u001b[0m\u001b[0mstdin_socket\u001b[0m\u001b[0;34m,\u001b[0m \u001b[0;36m0\u001b[0m\u001b[0;34m)\u001b[0m\u001b[0;34m\u001b[0m\u001b[0;34m\u001b[0m\u001b[0m\n\u001b[0m\u001b[1;32m    730\u001b[0m             \u001b[0;32mexcept\u001b[0m \u001b[0mException\u001b[0m\u001b[0;34m:\u001b[0m\u001b[0;34m\u001b[0m\u001b[0;34m\u001b[0m\u001b[0m\n",
            "\u001b[0;32m/usr/local/lib/python3.7/dist-packages/jupyter_client/session.py\u001b[0m in \u001b[0;36mrecv\u001b[0;34m(self, socket, mode, content, copy)\u001b[0m\n\u001b[1;32m    802\u001b[0m         \u001b[0;32mtry\u001b[0m\u001b[0;34m:\u001b[0m\u001b[0;34m\u001b[0m\u001b[0;34m\u001b[0m\u001b[0m\n\u001b[0;32m--> 803\u001b[0;31m             \u001b[0mmsg_list\u001b[0m \u001b[0;34m=\u001b[0m \u001b[0msocket\u001b[0m\u001b[0;34m.\u001b[0m\u001b[0mrecv_multipart\u001b[0m\u001b[0;34m(\u001b[0m\u001b[0mmode\u001b[0m\u001b[0;34m,\u001b[0m \u001b[0mcopy\u001b[0m\u001b[0;34m=\u001b[0m\u001b[0mcopy\u001b[0m\u001b[0;34m)\u001b[0m\u001b[0;34m\u001b[0m\u001b[0;34m\u001b[0m\u001b[0m\n\u001b[0m\u001b[1;32m    804\u001b[0m         \u001b[0;32mexcept\u001b[0m \u001b[0mzmq\u001b[0m\u001b[0;34m.\u001b[0m\u001b[0mZMQError\u001b[0m \u001b[0;32mas\u001b[0m \u001b[0me\u001b[0m\u001b[0;34m:\u001b[0m\u001b[0;34m\u001b[0m\u001b[0;34m\u001b[0m\u001b[0m\n",
            "\u001b[0;32m/usr/local/lib/python3.7/dist-packages/zmq/sugar/socket.py\u001b[0m in \u001b[0;36mrecv_multipart\u001b[0;34m(self, flags, copy, track)\u001b[0m\n\u001b[1;32m    624\u001b[0m         \"\"\"\n\u001b[0;32m--> 625\u001b[0;31m         \u001b[0mparts\u001b[0m \u001b[0;34m=\u001b[0m \u001b[0;34m[\u001b[0m\u001b[0mself\u001b[0m\u001b[0;34m.\u001b[0m\u001b[0mrecv\u001b[0m\u001b[0;34m(\u001b[0m\u001b[0mflags\u001b[0m\u001b[0;34m,\u001b[0m \u001b[0mcopy\u001b[0m\u001b[0;34m=\u001b[0m\u001b[0mcopy\u001b[0m\u001b[0;34m,\u001b[0m \u001b[0mtrack\u001b[0m\u001b[0;34m=\u001b[0m\u001b[0mtrack\u001b[0m\u001b[0;34m)\u001b[0m\u001b[0;34m]\u001b[0m\u001b[0;34m\u001b[0m\u001b[0;34m\u001b[0m\u001b[0m\n\u001b[0m\u001b[1;32m    626\u001b[0m         \u001b[0;31m# have first part already, only loop while more to receive\u001b[0m\u001b[0;34m\u001b[0m\u001b[0;34m\u001b[0m\u001b[0;34m\u001b[0m\u001b[0m\n",
            "\u001b[0;32mzmq/backend/cython/socket.pyx\u001b[0m in \u001b[0;36mzmq.backend.cython.socket.Socket.recv\u001b[0;34m()\u001b[0m\n",
            "\u001b[0;32mzmq/backend/cython/socket.pyx\u001b[0m in \u001b[0;36mzmq.backend.cython.socket.Socket.recv\u001b[0;34m()\u001b[0m\n",
            "\u001b[0;32mzmq/backend/cython/socket.pyx\u001b[0m in \u001b[0;36mzmq.backend.cython.socket._recv_copy\u001b[0;34m()\u001b[0m\n",
            "\u001b[0;32m/usr/local/lib/python3.7/dist-packages/zmq/backend/cython/checkrc.pxd\u001b[0m in \u001b[0;36mzmq.backend.cython.checkrc._check_rc\u001b[0;34m()\u001b[0m\n",
            "\u001b[0;31mKeyboardInterrupt\u001b[0m: ",
            "\nDuring handling of the above exception, another exception occurred:\n",
            "\u001b[0;31mKeyboardInterrupt\u001b[0m                         Traceback (most recent call last)",
            "\u001b[0;32m<ipython-input-4-fb1d1f0a48d2>\u001b[0m in \u001b[0;36m<module>\u001b[0;34m()\u001b[0m\n\u001b[1;32m     12\u001b[0m \u001b[0;34m\u001b[0m\u001b[0m\n\u001b[1;32m     13\u001b[0m \u001b[0;32mfor\u001b[0m \u001b[0mi\u001b[0m \u001b[0;32min\u001b[0m \u001b[0mrange\u001b[0m\u001b[0;34m(\u001b[0m\u001b[0;36m0\u001b[0m\u001b[0;34m,\u001b[0m \u001b[0mT\u001b[0m\u001b[0;34m)\u001b[0m\u001b[0;34m:\u001b[0m\u001b[0;34m\u001b[0m\u001b[0;34m\u001b[0m\u001b[0m\n\u001b[0;32m---> 14\u001b[0;31m   \u001b[0mx\u001b[0m\u001b[0;34m,\u001b[0m \u001b[0my\u001b[0m \u001b[0;34m=\u001b[0m \u001b[0mmap\u001b[0m\u001b[0;34m(\u001b[0m\u001b[0mint\u001b[0m\u001b[0;34m,\u001b[0m \u001b[0minput\u001b[0m\u001b[0;34m(\u001b[0m\u001b[0;34m)\u001b[0m\u001b[0;34m.\u001b[0m\u001b[0msplit\u001b[0m\u001b[0;34m(\u001b[0m\u001b[0;34m)\u001b[0m\u001b[0;34m)\u001b[0m\u001b[0;34m\u001b[0m\u001b[0;34m\u001b[0m\u001b[0m\n\u001b[0m\u001b[1;32m     15\u001b[0m   \u001b[0mdistance\u001b[0m \u001b[0;34m=\u001b[0m \u001b[0;34m(\u001b[0m\u001b[0my\u001b[0m\u001b[0;34m-\u001b[0m\u001b[0mx\u001b[0m\u001b[0;34m)\u001b[0m\u001b[0;34m-\u001b[0m\u001b[0;36m2\u001b[0m\u001b[0;34m\u001b[0m\u001b[0;34m\u001b[0m\u001b[0m\n\u001b[1;32m     16\u001b[0m \u001b[0;34m\u001b[0m\u001b[0m\n",
            "\u001b[0;32m/usr/local/lib/python3.7/dist-packages/ipykernel/kernelbase.py\u001b[0m in \u001b[0;36mraw_input\u001b[0;34m(self, prompt)\u001b[0m\n\u001b[1;32m    702\u001b[0m             \u001b[0mself\u001b[0m\u001b[0;34m.\u001b[0m\u001b[0m_parent_ident\u001b[0m\u001b[0;34m,\u001b[0m\u001b[0;34m\u001b[0m\u001b[0;34m\u001b[0m\u001b[0m\n\u001b[1;32m    703\u001b[0m             \u001b[0mself\u001b[0m\u001b[0;34m.\u001b[0m\u001b[0m_parent_header\u001b[0m\u001b[0;34m,\u001b[0m\u001b[0;34m\u001b[0m\u001b[0;34m\u001b[0m\u001b[0m\n\u001b[0;32m--> 704\u001b[0;31m             \u001b[0mpassword\u001b[0m\u001b[0;34m=\u001b[0m\u001b[0;32mFalse\u001b[0m\u001b[0;34m,\u001b[0m\u001b[0;34m\u001b[0m\u001b[0;34m\u001b[0m\u001b[0m\n\u001b[0m\u001b[1;32m    705\u001b[0m         )\n\u001b[1;32m    706\u001b[0m \u001b[0;34m\u001b[0m\u001b[0m\n",
            "\u001b[0;32m/usr/local/lib/python3.7/dist-packages/ipykernel/kernelbase.py\u001b[0m in \u001b[0;36m_input_request\u001b[0;34m(self, prompt, ident, parent, password)\u001b[0m\n\u001b[1;32m    732\u001b[0m             \u001b[0;32mexcept\u001b[0m \u001b[0mKeyboardInterrupt\u001b[0m\u001b[0;34m:\u001b[0m\u001b[0;34m\u001b[0m\u001b[0;34m\u001b[0m\u001b[0m\n\u001b[1;32m    733\u001b[0m                 \u001b[0;31m# re-raise KeyboardInterrupt, to truncate traceback\u001b[0m\u001b[0;34m\u001b[0m\u001b[0;34m\u001b[0m\u001b[0;34m\u001b[0m\u001b[0m\n\u001b[0;32m--> 734\u001b[0;31m                 \u001b[0;32mraise\u001b[0m \u001b[0mKeyboardInterrupt\u001b[0m\u001b[0;34m\u001b[0m\u001b[0;34m\u001b[0m\u001b[0m\n\u001b[0m\u001b[1;32m    735\u001b[0m             \u001b[0;32melse\u001b[0m\u001b[0;34m:\u001b[0m\u001b[0;34m\u001b[0m\u001b[0;34m\u001b[0m\u001b[0m\n\u001b[1;32m    736\u001b[0m                 \u001b[0;32mbreak\u001b[0m\u001b[0;34m\u001b[0m\u001b[0;34m\u001b[0m\u001b[0m\n",
            "\u001b[0;31mKeyboardInterrupt\u001b[0m: "
          ]
        }
      ]
    },
    {
      "cell_type": "code",
      "source": [
        "math.ceil(-0.5)"
      ],
      "metadata": {
        "colab": {
          "base_uri": "https://localhost:8080/"
        },
        "id": "clb084ouxpYn",
        "outputId": "f94f0e8f-30fa-4971-d42e-4a4f06da6160"
      },
      "execution_count": 5,
      "outputs": [
        {
          "output_type": "execute_result",
          "data": {
            "text/plain": [
              "0"
            ]
          },
          "metadata": {},
          "execution_count": 5
        }
      ]
    },
    {
      "cell_type": "code",
      "source": [
        "math.ceil((1-0-2)/2)"
      ],
      "metadata": {
        "colab": {
          "base_uri": "https://localhost:8080/"
        },
        "id": "_5C8XPm1xwpE",
        "outputId": "5e4b4f25-a4ed-44d0-b8a2-b0e012cc5867"
      },
      "execution_count": 7,
      "outputs": [
        {
          "output_type": "execute_result",
          "data": {
            "text/plain": [
              "0"
            ]
          },
          "metadata": {},
          "execution_count": 7
        }
      ]
    },
    {
      "cell_type": "code",
      "source": [
        ""
      ],
      "metadata": {
        "id": "YzEdis2fx47a"
      },
      "execution_count": null,
      "outputs": []
    }
  ]
}