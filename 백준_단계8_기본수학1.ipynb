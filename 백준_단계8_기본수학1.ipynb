{
  "nbformat": 4,
  "nbformat_minor": 0,
  "metadata": {
    "colab": {
      "name": "백준_단계8_기본수학1.ipynb",
      "provenance": [],
      "collapsed_sections": [
        "SImsBZWoawPM",
        "K1mH-IPr387y",
        "MeF0cEvF4bt2",
        "YbPT7NwJ4c2C",
        "9PDvGci84f4F",
        "piZ-ck0m4qDD",
        "vp78rAzj4yMH",
        "QQrV0AZR48yH"
      ],
      "authorship_tag": "ABX9TyNzI5rmHg0mrT+8aSXPHUkZ",
      "include_colab_link": true
    },
    "kernelspec": {
      "name": "python3",
      "display_name": "Python 3"
    },
    "language_info": {
      "name": "python"
    }
  },
  "cells": [
    {
      "cell_type": "markdown",
      "metadata": {
        "id": "view-in-github",
        "colab_type": "text"
      },
      "source": [
        "<a href=\"https://colab.research.google.com/github/ovozzx/Baekjoon/blob/main/%E1%84%87%E1%85%A2%E1%86%A8%E1%84%8C%E1%85%AE%E1%86%AB_%E1%84%83%E1%85%A1%E1%86%AB%E1%84%80%E1%85%A88_%EA%B8%B0%EB%B3%B8%EC%88%98%ED%95%991.ipynb\" target=\"_parent\"><img src=\"https://colab.research.google.com/assets/colab-badge.svg\" alt=\"Open In Colab\"/></a>"
      ]
    },
    {
      "cell_type": "markdown",
      "source": [
        "#1. 문제 번호 : 1712\t[손익분기점]\t\n",
        "\n",
        "### - 이익이 발생하는 지점을 찾는 문제\n",
        "\n",
        "월드전자는 노트북을 제조하고 판매하는 회사이다. 노트북 판매 대수에 상관없이 매년 임대료, 재산세, 보험료, 급여 등 A만원의 고정 비용이 들며, 한 대의 노트북을 생산하는 데에는 재료비와 인건비 등 총 B만원의 가변 비용이 든다고 한다.\n",
        "\n",
        "예를 들어 A=1,000, B=70이라고 하자. 이 경우 노트북을 한 대 생산하는 데는 총 1,070만원이 들며, 열 대 생산하는 데는 총 1,700만원이 든다.\n",
        "\n",
        "노트북 가격이 C만원으로 책정되었다고 한다. 일반적으로 생산 대수를 늘려 가다 보면 어느 순간 총 수입(판매비용)이 총 비용(=고정비용+가변비용)보다 많아지게 된다. 최초로 총 수입이 총 비용보다 **많아져** 이익이 발생하는 지점을 손익분기점(BREAK-EVEN POINT)이라고 한다.\n",
        "\n",
        "A, B, C가 주어졌을 때, 손익분기점을 구하는 프로그램을 작성하시오."
      ],
      "metadata": {
        "id": "SImsBZWoawPM"
      }
    },
    {
      "cell_type": "code",
      "source": [
        "A, B, C = map(int, input().split())\n",
        "\n",
        "if C<=B :\n",
        "  print(-1)\n",
        "else :\n",
        "  print(A//(C-B)+1)\n",
        "\n",
        " "
      ],
      "metadata": {
        "colab": {
          "base_uri": "https://localhost:8080/"
        },
        "id": "Mw5pBKG28w75",
        "outputId": "28f58c3d-b139-41f5-a5a9-e07edeaf4e15"
      },
      "execution_count": null,
      "outputs": [
        {
          "output_type": "stream",
          "name": "stdout",
          "text": [
            "3 2 1\n",
            "-1\n"
          ]
        }
      ]
    },
    {
      "cell_type": "markdown",
      "source": [
        "\n",
        "#2. 문제 번호 : 2292\t[벌집]\t\n",
        "\n",
        "### - 벌집이 형성되는 규칙에 따라 벌집의 위치를 구하는 문제\n",
        "\n",
        "위의 그림과 같이 육각형으로 이루어진 벌집이 있다. 그림에서 보는 바와 같이 중앙의 방 1부터 시작해서 이웃하는 방에 돌아가면서 1씩 증가하는 번호를 주소로 매길 수 있다. 숫자 N이 주어졌을 때, 벌집의 중앙 1에서 N번 방까지 최소 개수의 방을 지나서 갈 때 몇 개의 방을 지나가는지(시작과 끝을 포함하여)를 계산하는 프로그램을 작성하시오. 예를 들면, 13까지는 3개, 58까지는 5개를 지난다.\n",
        "\n",
        "\n",
        "\n"
      ],
      "metadata": {
        "id": "K1mH-IPr387y"
      }
    },
    {
      "cell_type": "markdown",
      "source": [
        "\n",
        "1(1):  1\n",
        "\n",
        "2~7(6=6*1) : 2\n",
        "\n",
        "8~19(12=6*2) : 3\n",
        "\n",
        "20~37(18=6*3) :  4\n",
        "\n",
        "38~61 (24=6*4) : 5\n",
        "\n",
        "..."
      ],
      "metadata": {
        "id": "AWNlZPbIWMlW"
      }
    },
    {
      "cell_type": "code",
      "source": [
        "n = int(input())\n",
        "\n",
        "start = 1\n",
        "end = 1\n",
        "flag = 0\n",
        "count = 0\n",
        "\n",
        "while flag == 0 :\n",
        "  \n",
        "  if n == 1 :\n",
        "    flag = 1\n",
        "    break\n",
        "  \n",
        "  elif start <= n <= end :\n",
        "  \n",
        "    flag = 1\n",
        "    break\n",
        "\n",
        "  count+=1\n",
        "  start = end + 1 \n",
        "  end = start+6*count-1\n",
        "\n",
        "\n",
        "print(count+1)\n",
        "\n"
      ],
      "metadata": {
        "colab": {
          "base_uri": "https://localhost:8080/"
        },
        "id": "0Ayl3FXn4eJA",
        "outputId": "97f60109-7340-40af-f168-8bd262402ec2"
      },
      "execution_count": null,
      "outputs": [
        {
          "output_type": "stream",
          "name": "stdout",
          "text": [
            "58\n",
            "5\n"
          ]
        }
      ]
    },
    {
      "cell_type": "markdown",
      "source": [
        "\n",
        "#3. 문제 번호 : 1193\t[분수찾기]\t\n",
        "\n",
        "분수의 순서에서 규칙을 찾는 문제\n",
        "\n",
        "\n",
        "\n",
        "\n"
      ],
      "metadata": {
        "id": "gSimqnZ74aav"
      }
    },
    {
      "cell_type": "markdown",
      "source": [
        "1/1\t1/2\t1/3\t1/4\t1/5\t…\n",
        "\n",
        "2/1\t2/2\t2/3\t2/4\t…\t…\n",
        "\n",
        "3/1\t3/2\t3/3\t…\t…\t…\n",
        "\n",
        "4/1\t4/2\t…\t…\t…\t…\n",
        "\n",
        "\n",
        "5/1\t…\t…\t…\t…\t…\n",
        "\n",
        "…\t…\t…\t…\t…\t…\n",
        "\n",
        "\n",
        "이와 같이 나열된 분수들을 1/1 → 1/2 → 2/1 → 3/1 → 2/2 → "
      ],
      "metadata": {
        "id": "RfJiiGPziZYC"
      }
    },
    {
      "cell_type": "code",
      "source": [
        "print(\"{0}\" .format(2))\n",
        "print(\"{0}/{1}\" .format(1,1))"
      ],
      "metadata": {
        "colab": {
          "base_uri": "https://localhost:8080/"
        },
        "id": "QRwSR6vVkM4r",
        "outputId": "e9b00320-2bd0-4cf2-cf07-ecd996cb8c4e"
      },
      "execution_count": 2,
      "outputs": [
        {
          "output_type": "stream",
          "name": "stdout",
          "text": [
            "2\n",
            "1/1\n"
          ]
        }
      ]
    },
    {
      "cell_type": "code",
      "source": [
        "n = int(input())\n",
        "\n",
        "arr = []\n",
        "num = 0\n",
        "N = 0\n",
        "a = 1  #1 12 321 1234\n",
        "b = 1  #1 21 123 4321\n",
        "\n",
        "while 1:\n",
        "\n",
        "  num+=1\n",
        "\n",
        "  if num % 2 == 0:\n",
        "\n",
        "    for i in range(1,num+1):\n",
        "        a = i\n",
        "        b = a-1\n",
        "        arr.append(\"{0}/{1}\" .format(a,b))  \n",
        "\n",
        "  else :\n",
        "\n",
        "    for i in range(1,num+1):\n",
        "        b = i\n",
        "        a = b-1\n",
        "        arr.append(\"{0}/{1}\" .format(a,b))    \n",
        "\n",
        "  if num == 10000000 :\n",
        "    break\n",
        "\n",
        "\n",
        "print(arr[n-1])"
      ],
      "metadata": {
        "colab": {
          "base_uri": "https://localhost:8080/"
        },
        "id": "2jQCy8tp4ek_",
        "outputId": "73170788-1958-4473-91ff-339f8410c4dc"
      },
      "execution_count": null,
      "outputs": [
        {
          "name": "stdout",
          "output_type": "stream",
          "text": [
            "5\n"
          ]
        }
      ]
    },
    {
      "cell_type": "markdown",
      "source": [
        "#4. 문제 번호 : 2869\t[달팽이는 올라가고 싶다]\t\n",
        "\n",
        "달팽이의 움직임을 계산하는 문제\n",
        "\n",
        "\n"
      ],
      "metadata": {
        "id": "MeF0cEvF4bt2"
      }
    },
    {
      "cell_type": "code",
      "source": [
        ""
      ],
      "metadata": {
        "id": "Ycw3AGBm4fAL"
      },
      "execution_count": null,
      "outputs": []
    },
    {
      "cell_type": "markdown",
      "source": [
        "#5. 문제 번호 : 10250\t[ACM 호텔]\t\n",
        "\n",
        "호텔 방 번호의 규칙을 찾아 출력하는 문제"
      ],
      "metadata": {
        "id": "YbPT7NwJ4c2C"
      }
    },
    {
      "cell_type": "code",
      "source": [
        ""
      ],
      "metadata": {
        "id": "8gIMAUnQ4fZm"
      },
      "execution_count": null,
      "outputs": []
    },
    {
      "cell_type": "markdown",
      "source": [
        "#6. 문제 번호 : 2775\t[부녀회장이 될테야]\t\n",
        "\n",
        "층과 거주자 수의 규칙을 찾는 문제"
      ],
      "metadata": {
        "id": "9PDvGci84f4F"
      }
    },
    {
      "cell_type": "code",
      "source": [
        ""
      ],
      "metadata": {
        "id": "oN7FDUPt4p0f"
      },
      "execution_count": null,
      "outputs": []
    },
    {
      "cell_type": "markdown",
      "source": [
        "#7. 문제 번호 : 2839\t[설탕 배달]\t\n",
        "\n",
        "5와 3을 최소 횟수로 합하여 N을 만드는 문제"
      ],
      "metadata": {
        "id": "piZ-ck0m4qDD"
      }
    },
    {
      "cell_type": "code",
      "source": [
        ""
      ],
      "metadata": {
        "id": "M2Qe1Rmf4x8W"
      },
      "execution_count": null,
      "outputs": []
    },
    {
      "cell_type": "markdown",
      "source": [
        "#8. 문제 번호 : 10757\t[큰 수 A+B]\t\n",
        "\n",
        "파이썬 같은 언어는 10,000자리 정도의 자연수도 자유롭게 다룰 수 있습니다. 하지만 C/C++이라면 이 문제를 어떻게 풀까요? C/C++ 사용자가 아니더라도 고민해 보면 좋을 것입니다."
      ],
      "metadata": {
        "id": "vp78rAzj4yMH"
      }
    },
    {
      "cell_type": "code",
      "source": [
        ""
      ],
      "metadata": {
        "id": "M3DouSCu48Lb"
      },
      "execution_count": null,
      "outputs": []
    },
    {
      "cell_type": "markdown",
      "source": [
        "#9. 문제 번호 : 1011\t[Fly me to the Alpha Centauri]\t\n",
        "\n",
        "거리에 따른 장치 사용 횟수를 출력하는 문제"
      ],
      "metadata": {
        "id": "QQrV0AZR48yH"
      }
    },
    {
      "cell_type": "code",
      "source": [
        ""
      ],
      "metadata": {
        "id": "2WTg7KC95FH6"
      },
      "execution_count": null,
      "outputs": []
    }
  ]
}