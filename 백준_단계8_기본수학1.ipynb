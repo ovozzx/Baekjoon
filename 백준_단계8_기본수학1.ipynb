{
  "nbformat": 4,
  "nbformat_minor": 0,
  "metadata": {
    "colab": {
      "name": "백준_단계8_기본수학1.ipynb",
      "provenance": [],
      "collapsed_sections": [],
      "authorship_tag": "ABX9TyPoDR8s1VtoZyK+6QaM86TD",
      "include_colab_link": true
    },
    "kernelspec": {
      "name": "python3",
      "display_name": "Python 3"
    },
    "language_info": {
      "name": "python"
    }
  },
  "cells": [
    {
      "cell_type": "markdown",
      "metadata": {
        "id": "view-in-github",
        "colab_type": "text"
      },
      "source": [
        "<a href=\"https://colab.research.google.com/github/ovozzx/Baekjoon/blob/main/%E1%84%87%E1%85%A2%E1%86%A8%E1%84%8C%E1%85%AE%E1%86%AB_%E1%84%83%E1%85%A1%E1%86%AB%E1%84%80%E1%85%A88_%EA%B8%B0%EB%B3%B8%EC%88%98%ED%95%991.ipynb\" target=\"_parent\"><img src=\"https://colab.research.google.com/assets/colab-badge.svg\" alt=\"Open In Colab\"/></a>"
      ]
    },
    {
      "cell_type": "markdown",
      "source": [
        "#1. 문제 번호 : 1712\t[손익분기점]\t\n",
        "\n",
        "### - 이익이 발생하는 지점을 찾는 문제\n",
        "\n",
        "월드전자는 노트북을 제조하고 판매하는 회사이다. 노트북 판매 대수에 상관없이 매년 임대료, 재산세, 보험료, 급여 등 A만원의 고정 비용이 들며, 한 대의 노트북을 생산하는 데에는 재료비와 인건비 등 총 B만원의 가변 비용이 든다고 한다.\n",
        "\n",
        "예를 들어 A=1,000, B=70이라고 하자. 이 경우 노트북을 한 대 생산하는 데는 총 1,070만원이 들며, 열 대 생산하는 데는 총 1,700만원이 든다.\n",
        "\n",
        "노트북 가격이 C만원으로 책정되었다고 한다. 일반적으로 생산 대수를 늘려 가다 보면 어느 순간 총 수입(판매비용)이 총 비용(=고정비용+가변비용)보다 많아지게 된다. 최초로 총 수입이 총 비용보다 **많아져** 이익이 발생하는 지점을 손익분기점(BREAK-EVEN POINT)이라고 한다.\n",
        "\n",
        "A, B, C가 주어졌을 때, 손익분기점을 구하는 프로그램을 작성하시오."
      ],
      "metadata": {
        "id": "SImsBZWoawPM"
      }
    },
    {
      "cell_type": "code",
      "source": [
        "A, B, C = map(int, input().split())\n",
        "\n",
        "if C<=B :\n",
        "  print(-1)\n",
        "else :\n",
        "  print(A//(C-B)+1)\n",
        "\n",
        " "
      ],
      "metadata": {
        "colab": {
          "base_uri": "https://localhost:8080/"
        },
        "id": "Mw5pBKG28w75",
        "outputId": "28f58c3d-b139-41f5-a5a9-e07edeaf4e15"
      },
      "execution_count": null,
      "outputs": [
        {
          "output_type": "stream",
          "name": "stdout",
          "text": [
            "3 2 1\n",
            "-1\n"
          ]
        }
      ]
    },
    {
      "cell_type": "markdown",
      "source": [
        "\n",
        "#2. 문제 번호 : 2292\t[벌집]\t\n",
        "\n",
        "### - 벌집이 형성되는 규칙에 따라 벌집의 위치를 구하는 문제\n",
        "\n",
        "위의 그림과 같이 육각형으로 이루어진 벌집이 있다. 그림에서 보는 바와 같이 중앙의 방 1부터 시작해서 이웃하는 방에 돌아가면서 1씩 증가하는 번호를 주소로 매길 수 있다. 숫자 N이 주어졌을 때, 벌집의 중앙 1에서 N번 방까지 최소 개수의 방을 지나서 갈 때 몇 개의 방을 지나가는지(시작과 끝을 포함하여)를 계산하는 프로그램을 작성하시오. 예를 들면, 13까지는 3개, 58까지는 5개를 지난다.\n",
        "\n",
        "\n",
        "\n"
      ],
      "metadata": {
        "id": "K1mH-IPr387y"
      }
    },
    {
      "cell_type": "markdown",
      "source": [
        "\n",
        "1(1):  1\n",
        "\n",
        "2~7(6=6*1) : 2\n",
        "\n",
        "8~19(12=6*2) : 3\n",
        "\n",
        "20~37(18=6*3) :  4\n",
        "\n",
        "38~61 (24=6*4) : 5\n",
        "\n",
        "..."
      ],
      "metadata": {
        "id": "AWNlZPbIWMlW"
      }
    },
    {
      "cell_type": "code",
      "source": [
        "n = int(input())\n",
        "\n",
        "start = 1\n",
        "end = 1\n",
        "flag = 0\n",
        "count = 0\n",
        "\n",
        "while flag == 0 :\n",
        "  \n",
        "  if n == 1 :\n",
        "    flag = 1\n",
        "    break\n",
        "  \n",
        "  elif start <= n <= end :\n",
        "  \n",
        "    flag = 1\n",
        "    break\n",
        "\n",
        "  count+=1\n",
        "  start = end + 1 \n",
        "  end = start+6*count-1\n",
        "\n",
        "\n",
        "print(count+1)\n",
        "\n"
      ],
      "metadata": {
        "colab": {
          "base_uri": "https://localhost:8080/"
        },
        "id": "0Ayl3FXn4eJA",
        "outputId": "97f60109-7340-40af-f168-8bd262402ec2"
      },
      "execution_count": null,
      "outputs": [
        {
          "output_type": "stream",
          "name": "stdout",
          "text": [
            "58\n",
            "5\n"
          ]
        }
      ]
    },
    {
      "cell_type": "markdown",
      "source": [
        "# !!!!다시\n",
        "\n",
        "#3. 문제 번호 : 1193\t[분수찾기]\t\n",
        "\n",
        "분수의 순서에서 규칙을 찾는 문제\n",
        "\n",
        "\n",
        "\n",
        "\n"
      ],
      "metadata": {
        "id": "gSimqnZ74aav"
      }
    },
    {
      "cell_type": "markdown",
      "source": [
        "1/1\t1/2\t1/3\t1/4\t1/5\t…\n",
        "\n",
        "2/1\t2/2\t2/3\t2/4\t…\t…\n",
        "\n",
        "3/1\t3/2\t3/3\t…\t…\t…\n",
        "\n",
        "4/1\t4/2\t…\t…\t…\t…\n",
        "\n",
        "\n",
        "5/1\t…\t…\t…\t…\t…\n",
        "\n",
        "…\t…\t…\t…\t…\t…\n",
        "\n",
        "\n",
        "이와 같이 나열된 분수들을 1/1 → 1/2 → 2/1 → 3/1 → 2/2 → "
      ],
      "metadata": {
        "id": "RfJiiGPziZYC"
      }
    },
    {
      "cell_type": "code",
      "source": [
        "print(\"{0}\" .format(2))\n",
        "print(\"{0}/{1}\" .format(1,1))"
      ],
      "metadata": {
        "colab": {
          "base_uri": "https://localhost:8080/"
        },
        "id": "QRwSR6vVkM4r",
        "outputId": "e9b00320-2bd0-4cf2-cf07-ecd996cb8c4e"
      },
      "execution_count": null,
      "outputs": [
        {
          "output_type": "stream",
          "name": "stdout",
          "text": [
            "2\n",
            "1/1\n"
          ]
        }
      ]
    },
    {
      "cell_type": "code",
      "source": [
        "#[1/1], [1/2, 2/1], [3/1, 2/2, 1/3], [1/4, 2/3, 3/2, 4/1] \n",
        "#  1        2             3 ==> line\n",
        "X=int(input())\n",
        "\n",
        "line=1\n",
        "\n",
        "#while은 조건이 아닌 경우를 한 번 포함하고 끝남!\n",
        "while X>line: #X가 line 보다 작아지면 나옴\n",
        "    X-=line  \n",
        "    line+=1  \n",
        "    #print('X :', X, 'line :', line)\n",
        "\n",
        "if line%2==0:\n",
        "    ja=X\n",
        "    mo=line-X+1\n",
        "else:\n",
        "    ja=line-X+1\n",
        "    mo=X\n",
        "    \n",
        "print(f\"{ja}/{mo}\")"
      ],
      "metadata": {
        "colab": {
          "base_uri": "https://localhost:8080/"
        },
        "id": "LYDe32sP-QDj",
        "outputId": "376d8fa2-5b2f-4be1-cdca-9f408b291803"
      },
      "execution_count": 9,
      "outputs": [
        {
          "output_type": "stream",
          "name": "stdout",
          "text": [
            "10\n",
            "1/4\n",
            "1/4\n"
          ]
        }
      ]
    },
    {
      "cell_type": "code",
      "source": [
        "#시간 초과 나옴\n",
        "arr = ['1/1']\n",
        "X = int(input())\n",
        "ja = 0\n",
        "mo = 0\n",
        "num = 2\n",
        "\n",
        "for i in range(2, X+1):\n",
        "\n",
        "  for j in range(1, num+1):\n",
        "    if num % 2 == 0 : #짝수면 분자 12 분모 21\n",
        "\n",
        "      if j == 1 :\n",
        "        mo = num  \n",
        "        ja = 1\n",
        "        arr.append(f'{ja}/{mo}')\n",
        "\n",
        "      else :    \n",
        "        ja += 1\n",
        "        mo -= 1\n",
        "        arr.append(f'{ja}/{mo}')\n",
        "    \n",
        "    else :\n",
        "\n",
        "      if j == 1 :\n",
        "        ja = num      \n",
        "        mo = 1\n",
        "        arr.append(f'{ja}/{mo}')\n",
        "      else : \n",
        "        ja -= 1\n",
        "        mo += 1\n",
        "        arr.append(f'{ja}/{mo}')\n",
        "    \n",
        "  num += 1\n",
        "\n",
        "\n",
        "\n",
        "\n",
        "print(arr)\n",
        "print(arr[X-1])\n",
        "\n",
        "#1  1 2  3 2 1\n",
        "#1  2 1  1 2 3"
      ],
      "metadata": {
        "colab": {
          "base_uri": "https://localhost:8080/"
        },
        "id": "8mZB-QOrE-ta",
        "outputId": "3e4503da-e108-4d78-abca-62e6fb083670"
      },
      "execution_count": 1,
      "outputs": [
        {
          "output_type": "stream",
          "name": "stdout",
          "text": [
            "10\n",
            "['1/1', '1/2', '2/1', '3/1', '2/2', '1/3', '1/4', '2/3', '3/2', '4/1', '5/1', '4/2', '3/3', '2/4', '1/5', '1/6', '2/5', '3/4', '4/3', '5/2', '6/1', '7/1', '6/2', '5/3', '4/4', '3/5', '2/6', '1/7', '1/8', '2/7', '3/6', '4/5', '5/4', '6/3', '7/2', '8/1', '9/1', '8/2', '7/3', '6/4', '5/5', '4/6', '3/7', '2/8', '1/9', '1/10', '2/9', '3/8', '4/7', '5/6', '6/5', '7/4', '8/3', '9/2', '10/1']\n",
            "4/1\n"
          ]
        }
      ]
    },
    {
      "cell_type": "code",
      "source": [
        "#시간 초과\n",
        "\n",
        "X = int(input())\n",
        "ja = 0\n",
        "mo = 0\n",
        "num = 2\n",
        "\n",
        "\n",
        "\n",
        "  for j in range(1, num+1):\n",
        "    if num % 2 == 0 : #짝수면 분자 12 분모 21\n",
        "\n",
        "      if j == 1 :\n",
        "        mo = num  \n",
        "        ja = 1\n",
        "        arr.append(f'{ja}/{mo}')\n",
        "\n",
        "      else :    \n",
        "        ja += 1\n",
        "        mo -= 1\n",
        "        arr.append(f'{ja}/{mo}')\n",
        "    \n",
        "    else :\n",
        "\n",
        "      if j == 1 :\n",
        "        ja = num      \n",
        "        mo = 1\n",
        "        arr.append(f'{ja}/{mo}')\n",
        "      else : \n",
        "        ja -= 1\n",
        "        mo += 1\n",
        "        arr.append(f'{ja}/{mo}')\n",
        "    \n",
        "  num += 1\n",
        "\n",
        "\n",
        "\n",
        "\n",
        "print(\bans)\n",
        "\n",
        "\n",
        "#1  1 2  3 2 1\n",
        "#1  2 1  1 2 3"
      ],
      "metadata": {
        "id": "oZi1CncGRHd4"
      },
      "execution_count": null,
      "outputs": []
    },
    {
      "cell_type": "markdown",
      "source": [
        "# !!!!다시\n",
        "\n",
        "#4. 문제 번호 : 2869\t[달팽이는 올라가고 싶다]\t\n",
        "\n",
        "달팽이의 움직임을 계산하는 문제\n",
        "\n",
        "\n",
        "---\n",
        "\n",
        "\n",
        "\n",
        "땅 위에 달팽이가 있다. 이 달팽이는 높이가 V미터인 나무 막대를 올라갈 것이다.\n",
        "\n",
        "달팽이는 낮에 A미터 올라갈 수 있다. 하지만, 밤에 잠을 자는 동안 B미터 미끄러진다. 또, 정상에 올라간 후에는 미끄러지지 않는다.\n",
        "\n",
        "달팽이가 나무 막대를 모두 올라가려면, 며칠이 걸리는지 구하는 프로그램을 작성하시오.\n",
        "\n"
      ],
      "metadata": {
        "id": "MeF0cEvF4bt2"
      }
    },
    {
      "cell_type": "code",
      "source": [
        "A, B, V = map(int, input().split())\n",
        "\n",
        "\n",
        "def day_cal(A, B, V):\n",
        "  D = 0 \n",
        "  while V > D*(A-B):\n",
        "    D+=1\n",
        "  return D\n",
        "\n",
        "print(day_cal(A, B, V))\n",
        "\n",
        "\n",
        "12345\n"
      ],
      "metadata": {
        "id": "Ycw3AGBm4fAL",
        "colab": {
          "base_uri": "https://localhost:8080/"
        },
        "outputId": "3cf22212-9523-41b6-b5c8-d1bd692c7242"
      },
      "execution_count": 36,
      "outputs": [
        {
          "output_type": "stream",
          "name": "stdout",
          "text": [
            "5 1 6\n",
            "1\n"
          ]
        }
      ]
    },
    {
      "cell_type": "markdown",
      "source": [
        "- math.ceil() : 올림\n",
        "\n",
        "- math.floor() : 내림\n",
        "\n",
        "- round(a,b) : 반올림 -> a는 숫자 b는 반올림할 자릿수\n"
      ],
      "metadata": {
        "id": "-qshQ6zrINVq"
      }
    },
    {
      "cell_type": "code",
      "source": [
        "#정답\n",
        "\n",
        "import math\n",
        "\n",
        "A, B, V = map(int, input().split())\n",
        "\n",
        "day = (V - B) / (A - B)  #???????\n",
        "print(math.ceil(day)) #"
      ],
      "metadata": {
        "colab": {
          "base_uri": "https://localhost:8080/"
        },
        "id": "1AremtLqHOpe",
        "outputId": "0ae46ffa-3e0f-4506-d507-849271cbe97b"
      },
      "execution_count": 39,
      "outputs": [
        {
          "output_type": "stream",
          "name": "stdout",
          "text": [
            "100 99 1000000000\n",
            "999999901\n"
          ]
        }
      ]
    },
    {
      "cell_type": "markdown",
      "source": [
        "#5. 문제 번호 : 10250\t[ACM 호텔]\t\n",
        "\n",
        "호텔 방 번호의 규칙을 찾아 출력하는 문제\n",
        "\n",
        "\n",
        "---\n",
        "\n"
      ],
      "metadata": {
        "id": "YbPT7NwJ4c2C"
      }
    },
    {
      "cell_type": "code",
      "source": [
        "T = int(input())\n",
        "\n",
        "for i in range(0, T):\n",
        "  H, W, N = map(int, input().split())\n",
        "\n",
        "  if H>=N:\n",
        "    fl = N\n",
        "    ho = 1\n",
        "\n",
        "    print(f'{fl}0{ho}')\n",
        "\n",
        "\n",
        "  else :\n",
        "    fl = N%H    \n",
        "\n",
        "    if fl ==0 :\n",
        "      fl = H   \n",
        "      ho = N//H      \n",
        "      if ho >= 10:\n",
        "        print(f'{fl}{ho}')\n",
        "      else :\n",
        "        print(f'{fl}0{ho}')\n",
        "\n",
        "    else :\n",
        "      ho = N//H\n",
        "      if ho >= 10:\n",
        "        print(f'{fl}{ho+1}')\n",
        "      else :\n",
        "\n",
        "        if ho == 9 :\n",
        "          print(f'{fl}{ho+1}')\n",
        "        else :\n",
        "          print(f'{fl}0{ho+1}')\n",
        "\n",
        "\n",
        "\n"
      ],
      "metadata": {
        "id": "8gIMAUnQ4fZm",
        "colab": {
          "base_uri": "https://localhost:8080/"
        },
        "outputId": "09b04e7b-c59b-4673-b456-ef4dba32a77c"
      },
      "execution_count": 4,
      "outputs": [
        {
          "output_type": "stream",
          "name": "stdout",
          "text": [
            "2\n",
            "6 12 10\n",
            "402\n",
            "30 50 72\n",
            "1203\n"
          ]
        }
      ]
    },
    {
      "cell_type": "markdown",
      "source": [
        "#6. 문제 번호 : 2775\t[부녀회장이 될테야]\t\n",
        "\n",
        "층과 거주자 수의 규칙을 찾는 문제"
      ],
      "metadata": {
        "id": "9PDvGci84f4F"
      }
    },
    {
      "cell_type": "code",
      "source": [
        "#1 2 3 4\n",
        "#1 3 6 10\n",
        "#1 4 10 20\n",
        "\n",
        "T = int(input())\n",
        "\n",
        "arr = []\n",
        "\n",
        "\n",
        "for i in range(0,T):\n",
        "  k = int(input())\n",
        "  n = int(input())\n",
        "\n",
        "  arr_all = [[1, 2, 3, 4, 5, 6, 7, 8, 9, 10, 11, 12, 13, 14]]\n",
        "\n",
        "  for j in range(1, k+1) :\n",
        "    for m in range(0,14) :\n",
        "\n",
        "      arr.append(sum(arr_all[j-1][:m+1]))\n",
        "    \n",
        "    arr_all.append(arr)\n",
        "    arr = []\n",
        "\n",
        "  print(arr_all[k][n-1])\n",
        "\n"
      ],
      "metadata": {
        "colab": {
          "base_uri": "https://localhost:8080/"
        },
        "id": "zpKBkZSG6Ity",
        "outputId": "4454321f-4618-4a14-d8a2-3f59e2d28441"
      },
      "execution_count": 8,
      "outputs": [
        {
          "output_type": "stream",
          "name": "stdout",
          "text": [
            "2\n",
            "1\n",
            "3\n",
            "6\n",
            "2\n",
            "3\n",
            "10\n"
          ]
        }
      ]
    },
    {
      "cell_type": "markdown",
      "source": [
        "#!!!다시\n",
        "\n",
        "\n",
        "#7. 문제 번호 : 2839\t[설탕 배달]\t\n",
        "\n",
        "5와 3을 최소 횟수로 합하여 N을 만드는 문제"
      ],
      "metadata": {
        "id": "piZ-ck0m4qDD"
      }
    },
    {
      "cell_type": "code",
      "source": [
        "flag = 0\n",
        "\n",
        "for i in range(0,10):\n",
        "\n",
        "  N = int(input())\n",
        "\n",
        "\n",
        "  if N%5 == 0 :\n",
        "    bong = N//5\n",
        "\n",
        "  elif N%3 == 0:\n",
        "\n",
        "    if N%5 == 3:\n",
        "      bong = N//5 + N%5//3\n",
        "    else:\n",
        "      bong = N//3\n",
        "\n",
        "  else :\n",
        "\n",
        "      for j in range(1,1000):\n",
        "        if N == 5\n",
        "      if (N-8)%5 == 3  or (N-8)%3 == 5:\n",
        "        bong = 3\n",
        "      else :\n",
        "        bong = -1\n",
        "\n",
        "  print(bong)\n",
        "\n",
        "\n",
        "\n",
        "  11 = 5+3+3\n",
        "  13 = 3+5+5"
      ],
      "metadata": {
        "id": "M2Qe1Rmf4x8W",
        "colab": {
          "base_uri": "https://localhost:8080/",
          "height": 780
        },
        "outputId": "81522761-aa3b-4743-c7eb-24314fe7b17e"
      },
      "execution_count": 12,
      "outputs": [
        {
          "output_type": "stream",
          "name": "stdout",
          "text": [
            "18\n",
            "4\n",
            "4\n",
            "-1\n",
            "6\n",
            "2\n",
            "9\n",
            "3\n",
            "11\n",
            "3\n",
            "22\n",
            "-1\n"
          ]
        },
        {
          "output_type": "error",
          "ename": "KeyboardInterrupt",
          "evalue": "ignored",
          "traceback": [
            "\u001b[0;31m---------------------------------------------------------------------------\u001b[0m",
            "\u001b[0;31mKeyboardInterrupt\u001b[0m                         Traceback (most recent call last)",
            "\u001b[0;32m/usr/local/lib/python3.7/dist-packages/ipykernel/kernelbase.py\u001b[0m in \u001b[0;36m_input_request\u001b[0;34m(self, prompt, ident, parent, password)\u001b[0m\n\u001b[1;32m    728\u001b[0m             \u001b[0;32mtry\u001b[0m\u001b[0;34m:\u001b[0m\u001b[0;34m\u001b[0m\u001b[0;34m\u001b[0m\u001b[0m\n\u001b[0;32m--> 729\u001b[0;31m                 \u001b[0mident\u001b[0m\u001b[0;34m,\u001b[0m \u001b[0mreply\u001b[0m \u001b[0;34m=\u001b[0m \u001b[0mself\u001b[0m\u001b[0;34m.\u001b[0m\u001b[0msession\u001b[0m\u001b[0;34m.\u001b[0m\u001b[0mrecv\u001b[0m\u001b[0;34m(\u001b[0m\u001b[0mself\u001b[0m\u001b[0;34m.\u001b[0m\u001b[0mstdin_socket\u001b[0m\u001b[0;34m,\u001b[0m \u001b[0;36m0\u001b[0m\u001b[0;34m)\u001b[0m\u001b[0;34m\u001b[0m\u001b[0;34m\u001b[0m\u001b[0m\n\u001b[0m\u001b[1;32m    730\u001b[0m             \u001b[0;32mexcept\u001b[0m \u001b[0mException\u001b[0m\u001b[0;34m:\u001b[0m\u001b[0;34m\u001b[0m\u001b[0;34m\u001b[0m\u001b[0m\n",
            "\u001b[0;32m/usr/local/lib/python3.7/dist-packages/jupyter_client/session.py\u001b[0m in \u001b[0;36mrecv\u001b[0;34m(self, socket, mode, content, copy)\u001b[0m\n\u001b[1;32m    802\u001b[0m         \u001b[0;32mtry\u001b[0m\u001b[0;34m:\u001b[0m\u001b[0;34m\u001b[0m\u001b[0;34m\u001b[0m\u001b[0m\n\u001b[0;32m--> 803\u001b[0;31m             \u001b[0mmsg_list\u001b[0m \u001b[0;34m=\u001b[0m \u001b[0msocket\u001b[0m\u001b[0;34m.\u001b[0m\u001b[0mrecv_multipart\u001b[0m\u001b[0;34m(\u001b[0m\u001b[0mmode\u001b[0m\u001b[0;34m,\u001b[0m \u001b[0mcopy\u001b[0m\u001b[0;34m=\u001b[0m\u001b[0mcopy\u001b[0m\u001b[0;34m)\u001b[0m\u001b[0;34m\u001b[0m\u001b[0;34m\u001b[0m\u001b[0m\n\u001b[0m\u001b[1;32m    804\u001b[0m         \u001b[0;32mexcept\u001b[0m \u001b[0mzmq\u001b[0m\u001b[0;34m.\u001b[0m\u001b[0mZMQError\u001b[0m \u001b[0;32mas\u001b[0m \u001b[0me\u001b[0m\u001b[0;34m:\u001b[0m\u001b[0;34m\u001b[0m\u001b[0;34m\u001b[0m\u001b[0m\n",
            "\u001b[0;32m/usr/local/lib/python3.7/dist-packages/zmq/sugar/socket.py\u001b[0m in \u001b[0;36mrecv_multipart\u001b[0;34m(self, flags, copy, track)\u001b[0m\n\u001b[1;32m    624\u001b[0m         \"\"\"\n\u001b[0;32m--> 625\u001b[0;31m         \u001b[0mparts\u001b[0m \u001b[0;34m=\u001b[0m \u001b[0;34m[\u001b[0m\u001b[0mself\u001b[0m\u001b[0;34m.\u001b[0m\u001b[0mrecv\u001b[0m\u001b[0;34m(\u001b[0m\u001b[0mflags\u001b[0m\u001b[0;34m,\u001b[0m \u001b[0mcopy\u001b[0m\u001b[0;34m=\u001b[0m\u001b[0mcopy\u001b[0m\u001b[0;34m,\u001b[0m \u001b[0mtrack\u001b[0m\u001b[0;34m=\u001b[0m\u001b[0mtrack\u001b[0m\u001b[0;34m)\u001b[0m\u001b[0;34m]\u001b[0m\u001b[0;34m\u001b[0m\u001b[0;34m\u001b[0m\u001b[0m\n\u001b[0m\u001b[1;32m    626\u001b[0m         \u001b[0;31m# have first part already, only loop while more to receive\u001b[0m\u001b[0;34m\u001b[0m\u001b[0;34m\u001b[0m\u001b[0;34m\u001b[0m\u001b[0m\n",
            "\u001b[0;32mzmq/backend/cython/socket.pyx\u001b[0m in \u001b[0;36mzmq.backend.cython.socket.Socket.recv\u001b[0;34m()\u001b[0m\n",
            "\u001b[0;32mzmq/backend/cython/socket.pyx\u001b[0m in \u001b[0;36mzmq.backend.cython.socket.Socket.recv\u001b[0;34m()\u001b[0m\n",
            "\u001b[0;32mzmq/backend/cython/socket.pyx\u001b[0m in \u001b[0;36mzmq.backend.cython.socket._recv_copy\u001b[0;34m()\u001b[0m\n",
            "\u001b[0;32m/usr/local/lib/python3.7/dist-packages/zmq/backend/cython/checkrc.pxd\u001b[0m in \u001b[0;36mzmq.backend.cython.checkrc._check_rc\u001b[0;34m()\u001b[0m\n",
            "\u001b[0;31mKeyboardInterrupt\u001b[0m: ",
            "\nDuring handling of the above exception, another exception occurred:\n",
            "\u001b[0;31mKeyboardInterrupt\u001b[0m                         Traceback (most recent call last)",
            "\u001b[0;32m<ipython-input-12-4a05ce5941cb>\u001b[0m in \u001b[0;36m<module>\u001b[0;34m()\u001b[0m\n\u001b[1;32m      3\u001b[0m \u001b[0;32mfor\u001b[0m \u001b[0mi\u001b[0m \u001b[0;32min\u001b[0m \u001b[0mrange\u001b[0m\u001b[0;34m(\u001b[0m\u001b[0;36m0\u001b[0m\u001b[0;34m,\u001b[0m\u001b[0;36m10\u001b[0m\u001b[0;34m)\u001b[0m\u001b[0;34m:\u001b[0m\u001b[0;34m\u001b[0m\u001b[0;34m\u001b[0m\u001b[0m\n\u001b[1;32m      4\u001b[0m \u001b[0;34m\u001b[0m\u001b[0m\n\u001b[0;32m----> 5\u001b[0;31m   \u001b[0mN\u001b[0m \u001b[0;34m=\u001b[0m \u001b[0mint\u001b[0m\u001b[0;34m(\u001b[0m\u001b[0minput\u001b[0m\u001b[0;34m(\u001b[0m\u001b[0;34m)\u001b[0m\u001b[0;34m)\u001b[0m\u001b[0;34m\u001b[0m\u001b[0;34m\u001b[0m\u001b[0m\n\u001b[0m\u001b[1;32m      6\u001b[0m \u001b[0;34m\u001b[0m\u001b[0m\n\u001b[1;32m      7\u001b[0m \u001b[0;34m\u001b[0m\u001b[0m\n",
            "\u001b[0;32m/usr/local/lib/python3.7/dist-packages/ipykernel/kernelbase.py\u001b[0m in \u001b[0;36mraw_input\u001b[0;34m(self, prompt)\u001b[0m\n\u001b[1;32m    702\u001b[0m             \u001b[0mself\u001b[0m\u001b[0;34m.\u001b[0m\u001b[0m_parent_ident\u001b[0m\u001b[0;34m,\u001b[0m\u001b[0;34m\u001b[0m\u001b[0;34m\u001b[0m\u001b[0m\n\u001b[1;32m    703\u001b[0m             \u001b[0mself\u001b[0m\u001b[0;34m.\u001b[0m\u001b[0m_parent_header\u001b[0m\u001b[0;34m,\u001b[0m\u001b[0;34m\u001b[0m\u001b[0;34m\u001b[0m\u001b[0m\n\u001b[0;32m--> 704\u001b[0;31m             \u001b[0mpassword\u001b[0m\u001b[0;34m=\u001b[0m\u001b[0;32mFalse\u001b[0m\u001b[0;34m,\u001b[0m\u001b[0;34m\u001b[0m\u001b[0;34m\u001b[0m\u001b[0m\n\u001b[0m\u001b[1;32m    705\u001b[0m         )\n\u001b[1;32m    706\u001b[0m \u001b[0;34m\u001b[0m\u001b[0m\n",
            "\u001b[0;32m/usr/local/lib/python3.7/dist-packages/ipykernel/kernelbase.py\u001b[0m in \u001b[0;36m_input_request\u001b[0;34m(self, prompt, ident, parent, password)\u001b[0m\n\u001b[1;32m    732\u001b[0m             \u001b[0;32mexcept\u001b[0m \u001b[0mKeyboardInterrupt\u001b[0m\u001b[0;34m:\u001b[0m\u001b[0;34m\u001b[0m\u001b[0;34m\u001b[0m\u001b[0m\n\u001b[1;32m    733\u001b[0m                 \u001b[0;31m# re-raise KeyboardInterrupt, to truncate traceback\u001b[0m\u001b[0;34m\u001b[0m\u001b[0;34m\u001b[0m\u001b[0;34m\u001b[0m\u001b[0m\n\u001b[0;32m--> 734\u001b[0;31m                 \u001b[0;32mraise\u001b[0m \u001b[0mKeyboardInterrupt\u001b[0m\u001b[0;34m\u001b[0m\u001b[0;34m\u001b[0m\u001b[0m\n\u001b[0m\u001b[1;32m    735\u001b[0m             \u001b[0;32melse\u001b[0m\u001b[0;34m:\u001b[0m\u001b[0;34m\u001b[0m\u001b[0;34m\u001b[0m\u001b[0m\n\u001b[1;32m    736\u001b[0m                 \u001b[0;32mbreak\u001b[0m\u001b[0;34m\u001b[0m\u001b[0;34m\u001b[0m\u001b[0m\n",
            "\u001b[0;31mKeyboardInterrupt\u001b[0m: "
          ]
        }
      ]
    },
    {
      "cell_type": "code",
      "source": [
        "sugar = int(input())\n",
        "\n",
        "bag = 0\n",
        "while sugar >= 0 :\n",
        "    if sugar % 5 == 0 :  # 5의 배수이면\n",
        "        bag += (sugar // 5)  # 5로 나눈 몫을 구해야 정수가 됨\n",
        "        print(bag)\n",
        "        break\n",
        "    sugar -= 3  \n",
        "    bag += 1  # 5의 배수가 될 때까지 설탕-3, 봉지+1\n",
        "else :\n",
        "    print(-1)"
      ],
      "metadata": {
        "id": "2pvGw1CpRD-u"
      },
      "execution_count": null,
      "outputs": []
    },
    {
      "cell_type": "markdown",
      "source": [
        "#8. 문제 번호 : 10757\t[큰 수 A+B]\t\n",
        "\n",
        "파이썬 같은 언어는 10,000자리 정도의 자연수도 자유롭게 다룰 수 있습니다. 하지만 C/C++이라면 이 문제를 어떻게 풀까요? C/C++ 사용자가 아니더라도 고민해 보면 좋을 것입니다."
      ],
      "metadata": {
        "id": "vp78rAzj4yMH"
      }
    },
    {
      "cell_type": "code",
      "source": [
        "A, B = map(int, input().split())\n",
        "\n",
        "print(A+B)"
      ],
      "metadata": {
        "id": "M3DouSCu48Lb",
        "colab": {
          "base_uri": "https://localhost:8080/"
        },
        "outputId": "4ded3c2b-bcaa-4c7e-ef23-8675341938b7"
      },
      "execution_count": 13,
      "outputs": [
        {
          "output_type": "stream",
          "name": "stdout",
          "text": [
            "9223372036854775807 9223372036854775808\n",
            "18446744073709551615\n"
          ]
        }
      ]
    },
    {
      "cell_type": "markdown",
      "source": [
        "#!!!다시\n",
        "\n",
        "#9. 문제 번호 : 1011\t[Fly me to the Alpha Centauri]\t\n",
        "\n",
        "거리에 따른 장치 사용 횟수를 출력하는 문제"
      ],
      "metadata": {
        "id": "QQrV0AZR48yH"
      }
    },
    {
      "cell_type": "code",
      "source": [
        "T = int(input())\n",
        "\n",
        "for i in range(0, T):\n",
        "  x, y = map(int, input().split())\n",
        "  "
      ],
      "metadata": {
        "id": "2WTg7KC95FH6"
      },
      "execution_count": null,
      "outputs": []
    },
    {
      "cell_type": "code",
      "source": [
        "N = int(input())\n",
        "fac = 1\n",
        "\n",
        "for i in range(N, 0, -1) :\n",
        "  fac *= i\n",
        "\n",
        "print(fac)"
      ],
      "metadata": {
        "colab": {
          "base_uri": "https://localhost:8080/"
        },
        "id": "PPUcZKWdiJnX",
        "outputId": "488224fe-637c-4e04-a395-65a1c5916c65"
      },
      "execution_count": 9,
      "outputs": [
        {
          "output_type": "stream",
          "name": "stdout",
          "text": [
            "0\n",
            "1\n"
          ]
        }
      ]
    }
  ]
}