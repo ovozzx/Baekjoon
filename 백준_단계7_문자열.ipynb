{
  "nbformat": 4,
  "nbformat_minor": 0,
  "metadata": {
    "colab": {
      "name": "백준_단계7_문자열.ipynb",
      "provenance": [],
      "collapsed_sections": [
        "A5S-Cg9Bg6fP",
        "4Tdl-wad_3mO",
        "L_7QN1NUA25L"
      ],
      "authorship_tag": "ABX9TyO4fIQvGXybvZA+IYKlsojL",
      "include_colab_link": true
    },
    "kernelspec": {
      "name": "python3",
      "display_name": "Python 3"
    },
    "language_info": {
      "name": "python"
    }
  },
  "cells": [
    {
      "cell_type": "markdown",
      "metadata": {
        "id": "view-in-github",
        "colab_type": "text"
      },
      "source": [
        "<a href=\"https://colab.research.google.com/github/ovozzx/Baekjoon/blob/main/%E1%84%87%E1%85%A2%E1%86%A8%E1%84%8C%E1%85%AE%E1%86%AB_%E1%84%83%E1%85%A1%E1%86%AB%E1%84%80%E1%85%A87_%EB%AC%B8%EC%9E%90%EC%97%B4.ipynb\" target=\"_parent\"><img src=\"https://colab.research.google.com/assets/colab-badge.svg\" alt=\"Open In Colab\"/></a>"
      ]
    },
    {
      "cell_type": "markdown",
      "source": [
        "#1. 문제 번호 :\t11654\t[아스키 코드]\n",
        "\n",
        "아스키 코드에 대해 알아보는 문제\n",
        "\n",
        "알파벳 소문자, 대문자, 숫자 0-9중 하나가 주어졌을 때, 주어진 글자의 아스키 코드값을 출력하는 프로그램을 작성하시오.\n",
        "\n",
        "\n",
        "ord <-> chr"
      ],
      "metadata": {
        "id": "wb6aqV9ZOwGY"
      }
    },
    {
      "cell_type": "code",
      "execution_count": 5,
      "metadata": {
        "colab": {
          "base_uri": "https://localhost:8080/"
        },
        "id": "l29cQInTOYqg",
        "outputId": "30985131-c937-4934-d65c-6c5852166d4c"
      },
      "outputs": [
        {
          "output_type": "stream",
          "name": "stdout",
          "text": [
            "0\n",
            "48\n"
          ]
        }
      ],
      "source": [
        "n = input()\n",
        "print(ord(n))"
      ]
    },
    {
      "cell_type": "markdown",
      "source": [
        "#2. 문제 번호 :\t11720\t[숫자의 합]\n",
        "\n",
        "정수를 문자열로 입력받는 문제. Python처럼 정수 크기에 제한이 없다면 상관 없으나, 예제 3은 일반적인 정수 자료형에 담기에 너무 크다는 점에 주목합시다.\n",
        "\n",
        "N개의 숫자가 공백 없이 쓰여있다. 이 숫자를 모두 합해서 출력하는 프로그램을 작성하시오."
      ],
      "metadata": {
        "id": "QPula4npP9dq"
      }
    },
    {
      "cell_type": "code",
      "source": [
        "n = int(input())\n",
        "number = input()\n",
        "sum = 0\n",
        "\n",
        "for i in range(0, len(number)) :\n",
        "  sum += int(number[i])\n",
        "\n",
        "print(sum)"
      ],
      "metadata": {
        "colab": {
          "base_uri": "https://localhost:8080/"
        },
        "id": "UVaMq-HBQKXZ",
        "outputId": "c5b5d0db-0ec2-4c5c-b38f-7469424fc3e7"
      },
      "execution_count": 8,
      "outputs": [
        {
          "output_type": "stream",
          "name": "stdout",
          "text": [
            "5\n",
            "54321\n",
            "15\n"
          ]
        }
      ]
    },
    {
      "cell_type": "markdown",
      "source": [
        "#3. 문제 번호 :\t10809\t[알파벳 찾기]\n",
        "\n",
        "한 단어에서 각 알파벳이 처음 등장하는 위치를 찾는 문제\n",
        "\n",
        "알파벳 **소문자**로만 이루어진 단어 S가 주어진다. 각각의 알파벳에 대해서, 단어에 포함되어 있는 경우에는 처음 등장하는 위치를, 포함되어 있지 않은 경우에는 -1을 출력하는 프로그램을 작성하시오."
      ],
      "metadata": {
        "id": "ifeuMnegRtUx"
      }
    },
    {
      "cell_type": "code",
      "source": [
        "print(ord('A'))\n",
        "print(ord('B'))\n",
        "print(ord('a'))\n",
        "print(ord('b'))"
      ],
      "metadata": {
        "colab": {
          "base_uri": "https://localhost:8080/"
        },
        "id": "LA5WiDeVStVp",
        "outputId": "cbf9af95-6c1c-4528-bb7b-39b219cf9fa2"
      },
      "execution_count": 21,
      "outputs": [
        {
          "output_type": "stream",
          "name": "stdout",
          "text": [
            "65\n",
            "66\n",
            "97\n",
            "98\n"
          ]
        }
      ]
    },
    {
      "cell_type": "code",
      "source": [
        "print(chr(65))\n",
        "print(chr(90))\n",
        "print(chr(97))\n",
        "print(chr(122))"
      ],
      "metadata": {
        "colab": {
          "base_uri": "https://localhost:8080/"
        },
        "id": "XUAMr5maS9TB",
        "outputId": "e6adef2b-31ca-4b33-9329-8a144ec0c530"
      },
      "execution_count": 23,
      "outputs": [
        {
          "output_type": "stream",
          "name": "stdout",
          "text": [
            "A\n",
            "Z\n",
            "a\n",
            "z\n"
          ]
        }
      ]
    },
    {
      "cell_type": "code",
      "source": [
        "#정답\n",
        "n = input()\n",
        "abc = []\n",
        "for i in range(97, 123) :\n",
        "  abc.append(chr(i))\n",
        "\n",
        "for j in range(0, 26) : \n",
        "  print(n.find(abc[j]), end = ' ') #공백추가"
      ],
      "metadata": {
        "colab": {
          "base_uri": "https://localhost:8080/"
        },
        "id": "i7UjG1-wR3oh",
        "outputId": "076da7cd-a957-4427-a517-53a60ec4186f"
      },
      "execution_count": 25,
      "outputs": [
        {
          "output_type": "stream",
          "name": "stdout",
          "text": [
            "baekjoon\n",
            "1 0 -1 -1 2 -1 -1 -1 -1 4 3 -1 -1 7 5 -1 -1 -1 -1 -1 -1 -1 -1 -1 -1 -1 "
          ]
        }
      ]
    },
    {
      "cell_type": "markdown",
      "source": [
        "#4. 문제 번호 :\t2675\t[문자열 반복]\n",
        "\n",
        "각 문자를 반복하여 출력하는 문제\n",
        "\n",
        "문자열 S를 입력받은 후에, 각 문자를 R번 반복해 새 문자열 P를 만든 후 출력하는 프로그램을 작성하시오. 즉, 첫 번째 문자를 R번 반복하고, 두 번째 문자를 R번 반복하는 식으로 P를 만들면 된다. S에는 QR Code \"alphanumeric\" 문자만 들어있다.\n",
        "\n",
        "QR Code \"alphanumeric\" 문자는 0123456789ABCDEFGHIJKLMNOPQRSTUVWXYZ\\$%*+-./: 이다."
      ],
      "metadata": {
        "id": "3usNLIjnVZPS"
      }
    },
    {
      "cell_type": "code",
      "source": [
        "test = int(input())\n",
        "new_abc = ''\n",
        "\n",
        "for _ in range(0, test) :\n",
        "  n, abc = input().split() #문자열로 받음\n",
        "\n",
        "  for i in range(0, len(abc)) :\n",
        "    new_abc += (abc[i]*int(n))\n",
        "\n",
        "  print(new_abc)\n",
        "  new_abc = ''"
      ],
      "metadata": {
        "colab": {
          "base_uri": "https://localhost:8080/"
        },
        "id": "r1XF5ZmxdQM2",
        "outputId": "30b6e823-0faa-47d1-ecb7-8e3d88c89bc7"
      },
      "execution_count": 26,
      "outputs": [
        {
          "output_type": "stream",
          "name": "stdout",
          "text": [
            "2\n",
            "3 ABC\n",
            "AAABBBCCC\n",
            "5 /HTP\n",
            "/////HHHHHTTTTTPPPPP\n"
          ]
        }
      ]
    },
    {
      "cell_type": "markdown",
      "source": [
        "#5. 문제 번호: 1157\t[단어 공부]\t\n",
        "주어진 단어에서 가장 많이 사용된 알파벳을 출력하는 문제\n",
        "\n",
        "알파벳 대소문자로 된 단어가 주어지면, 이 단어에서 가장 많이 사용된 알파벳이 무엇인지 알아내는 프로그램을 작성하시오. 단, 대문자와 소문자를 구분하지 않는다."
      ],
      "metadata": {
        "id": "A5S-Cg9Bg6fP"
      }
    },
    {
      "cell_type": "code",
      "source": [
        "word = input()\n",
        "wordx = str(set(word))\n",
        "count = []\n",
        "\n",
        "for i in range(0, len(wordx)) :\n",
        "  \n",
        "    n = word.count(wordx[i])\n",
        "    count.append(n)\n",
        "\n",
        "val = max(count)\n",
        "id = str(count).find(str(val))\n",
        "print(wordx[id])\n",
        "\n",
        "\n",
        "\n"
      ],
      "metadata": {
        "colab": {
          "base_uri": "https://localhost:8080/"
        },
        "id": "IVgDFj-lhHRn",
        "outputId": "031d660a-6033-4629-9d3f-309eea56e7f2"
      },
      "execution_count": 38,
      "outputs": [
        {
          "output_type": "stream",
          "name": "stdout",
          "text": [
            "aabc\n",
            "b\n"
          ]
        }
      ]
    },
    {
      "cell_type": "code",
      "source": [
        "[0,0,0,1].count(0)"
      ],
      "metadata": {
        "colab": {
          "base_uri": "https://localhost:8080/"
        },
        "id": "84gPCqtwXH-W",
        "outputId": "572080d9-5197-4c41-c423-122ec7a808f4"
      },
      "execution_count": 32,
      "outputs": [
        {
          "output_type": "execute_result",
          "data": {
            "text/plain": [
              "3"
            ]
          },
          "metadata": {},
          "execution_count": 32
        }
      ]
    },
    {
      "cell_type": "markdown",
      "source": [
        "#6. 문제 번호: 1152\t[단어의 개수]\t\n",
        "\n",
        "단어의 개수를 구하는 문제\n",
        "\n",
        "영어 대소문자와 공백으로 이루어진 문자열이 주어진다. 이 문자열에는 몇 개의 단어가 있을까? 이를 구하는 프로그램을 작성하시오. 단, 한 단어가 여러 번 등장하면 등장한 횟수만큼 모두 세어야 한다."
      ],
      "metadata": {
        "id": "4Tdl-wad_3mO"
      }
    },
    {
      "cell_type": "code",
      "source": [
        ""
      ],
      "metadata": {
        "id": "Chmo3PHf_37l"
      },
      "execution_count": null,
      "outputs": []
    },
    {
      "cell_type": "markdown",
      "source": [
        "#7. 문제 번호: 2908\t[상수]\t\n",
        "\n",
        "숫자를 뒤집어서 비교하는 문제\n",
        "\n",
        "상근이의 동생 상수는 수학을 정말 못한다. 상수는 숫자를 읽는데 문제가 있다. 이렇게 수학을 못하는 상수를 위해서 상근이는 수의 크기를 비교하는 문제를 내주었다. 상근이는 세 자리 수 두 개를 칠판에 써주었다. 그 다음에 크기가 큰 수를 말해보라고 했다.\n",
        "\n",
        "상수는 수를 다른 사람과 다르게 거꾸로 읽는다. 예를 들어, 734와 893을 칠판에 적었다면, 상수는 이 수를 437과 398로 읽는다. 따라서, 상수는 두 수중 큰 수인 437을 큰 수라고 말할 것이다.\n",
        "\n",
        "두 수가 주어졌을 때, 상수의 대답을 출력하는 프로그램을 작성하시오."
      ],
      "metadata": {
        "id": "L_7QN1NUA25L"
      }
    },
    {
      "cell_type": "code",
      "source": [
        "a, b = input().split()\n",
        "\n",
        "a = a[2]+a[1]+a[0]\n",
        "b = b[2]+b[1]+b[0]\n",
        "\n",
        "if int(a)>int(b) :\n",
        "\n",
        "  print(int(a))\n",
        "\n",
        "else :\n",
        "\n",
        "  print(int(b))\n",
        "\n"
      ],
      "metadata": {
        "colab": {
          "base_uri": "https://localhost:8080/"
        },
        "id": "YpPQWUczA44N",
        "outputId": "e1db7583-f31a-4209-9215-73c8416d23bf"
      },
      "execution_count": 6,
      "outputs": [
        {
          "output_type": "stream",
          "name": "stdout",
          "text": [
            "734 893\n",
            "437\n"
          ]
        }
      ]
    },
    {
      "cell_type": "markdown",
      "source": [
        "#8. 문제 번호: 5622\t[다이얼]\t\n",
        "\n",
        "규칙에 따라 문자에 대응하는 수를 출력하는 문제\n",
        "\n",
        "\n",
        "상근이의 할머니는 아래 그림과 같이 오래된 다이얼 전화기를 사용한다.\n",
        "\n",
        "\n",
        "\n",
        "전화를 걸고 싶은 번호가 있다면, 숫자를 하나를 누른 다음에 금속 핀이 있는 곳 까지 시계방향으로 돌려야 한다. 숫자를 하나 누르면 다이얼이 처음 위치로 돌아가고, 다음 숫자를 누르려면 다이얼을 처음 위치에서 다시 돌려야 한다.\n",
        "\n",
        "숫자 1을 걸려면 총 2초가 필요하다. 1보다 큰 수를 거는데 걸리는 시간은 이보다 더 걸리며, 한 칸 옆에 있는 숫자를 걸기 위해선 1초씩 더 걸린다.\n",
        "\n",
        "상근이의 할머니는 전화 번호를 각 숫자에 해당하는 문자로 외운다. 즉, 어떤 단어를 걸 때, 각 알파벳에 해당하는 숫자를 걸면 된다. 예를 들어, UNUCIC는 868242와 같다.\n",
        "\n",
        "할머니가 외운 단어가 주어졌을 때, 이 전화를 걸기 위해서 필요한 최소 시간을 구하는 프로그램을 작성하시오."
      ],
      "metadata": {
        "id": "HldH7Tt8B33C"
      }
    },
    {
      "cell_type": "code",
      "source": [
        "word = input()\n",
        "\n"
      ],
      "metadata": {
        "id": "W54gYt15B3J5"
      },
      "execution_count": null,
      "outputs": []
    },
    {
      "cell_type": "markdown",
      "source": [
        "#9. 문제 번호: 2941\t[알파벳]\t\n",
        "\n",
        "크로아티아 알파벳의 개수를 세는 문제\n",
        "\n",
        "예전에는 운영체제에서 크로아티아 알파벳을 입력할 수가 없었다. 따라서, 다음과 같이 크로아티아 알파벳을 변경해서 입력했다.\n",
        "\n",
        "예를 들어, ljes=njak은 크로아티아 알파벳 6개(lj, e, š, nj, a, k)로 이루어져 있다. 단어가 주어졌을 때, 몇 개의 크로아티아 알파벳으로 이루어져 있는지 출력한다.\n",
        "\n",
        "dž는 무조건 하나의 알파벳으로 쓰이고, d와 ž가 분리된 것으로 보지 않는다. lj와 nj도 마찬가지이다. 위 목록에 없는 알파벳은 한 글자씩 센다."
      ],
      "metadata": {
        "id": "W1nApRk5bxlE"
      }
    },
    {
      "cell_type": "code",
      "source": [
        "cro = input()\n",
        "\n",
        "croatia = ['c=', 'c-', 'dz=', 'd-', 'lj', 'nj', 's=', 'z=']\n",
        "\n",
        "count1 = 0\n",
        "coubt2 = 0\n",
        "count = 0\n",
        "\n",
        "for i in range(0,8) :\n",
        "\n",
        "  if cro.find(croatia[i]) != -1  :\n",
        "    count1 += 1 \n",
        "\n",
        "    if i == 2:\n",
        "      a = cro[cro.find(croatia[i])]\n",
        "      b = cro[cro.find(croatia[i])+1]\n",
        "      c = cro[cro.find(croatia[i])+2]      \n",
        "      count2 = len(set(cro)-set(a)-set(b)-set(c))\n",
        "      \n",
        "    else :\n",
        "      a = cro[cro.find(croatia[i])]\n",
        "      b = cro[cro.find(croatia[i])+1]\n",
        "      count2 = len(set(cro)-set(a)-set(b))\n",
        "\n",
        "  else :\n",
        "\n",
        "    count = len(cro)\n",
        "\n",
        "\n",
        "  count = count1+count2\n",
        "\n",
        "print(count)\n"
      ],
      "metadata": {
        "colab": {
          "base_uri": "https://localhost:8080/"
        },
        "id": "TK4sLfY4rwmm",
        "outputId": "bc774ada-4fcf-4243-9f22-30a77c802301"
      },
      "execution_count": 24,
      "outputs": [
        {
          "output_type": "stream",
          "name": "stdout",
          "text": [
            "c=c=\n",
            "1\n"
          ]
        }
      ]
    },
    {
      "cell_type": "code",
      "source": [
        "set([1,2,3])-set([1])"
      ],
      "metadata": {
        "colab": {
          "base_uri": "https://localhost:8080/"
        },
        "id": "AISm1d44vBMx",
        "outputId": "b11a4b89-8279-409d-bd19-d760afb2c3d9"
      },
      "execution_count": 6,
      "outputs": [
        {
          "output_type": "execute_result",
          "data": {
            "text/plain": [
              "{2, 3}"
            ]
          },
          "metadata": {},
          "execution_count": 6
        }
      ]
    },
    {
      "cell_type": "code",
      "source": [
        "set([123])+set([4])"
      ],
      "metadata": {
        "colab": {
          "base_uri": "https://localhost:8080/",
          "height": 166
        },
        "id": "DsLbOoPBvL-9",
        "outputId": "5c30c0d1-1e83-4a45-97c5-94df71ed21e2"
      },
      "execution_count": 16,
      "outputs": [
        {
          "output_type": "error",
          "ename": "TypeError",
          "evalue": "ignored",
          "traceback": [
            "\u001b[0;31m---------------------------------------------------------------------------\u001b[0m",
            "\u001b[0;31mTypeError\u001b[0m                                 Traceback (most recent call last)",
            "\u001b[0;32m<ipython-input-16-3e85df290647>\u001b[0m in \u001b[0;36m<module>\u001b[0;34m()\u001b[0m\n\u001b[0;32m----> 1\u001b[0;31m \u001b[0mset\u001b[0m\u001b[0;34m(\u001b[0m\u001b[0;34m[\u001b[0m\u001b[0;36m123\u001b[0m\u001b[0;34m]\u001b[0m\u001b[0;34m)\u001b[0m\u001b[0;34m+\u001b[0m\u001b[0mset\u001b[0m\u001b[0;34m(\u001b[0m\u001b[0;34m[\u001b[0m\u001b[0;36m4\u001b[0m\u001b[0;34m]\u001b[0m\u001b[0;34m)\u001b[0m\u001b[0;34m\u001b[0m\u001b[0;34m\u001b[0m\u001b[0m\n\u001b[0m",
            "\u001b[0;31mTypeError\u001b[0m: unsupported operand type(s) for +: 'set' and 'set'"
          ]
        }
      ]
    },
    {
      "cell_type": "code",
      "source": [
        "set(\"123\")+set(\"4\")"
      ],
      "metadata": {
        "colab": {
          "base_uri": "https://localhost:8080/",
          "height": 166
        },
        "id": "LfaLd436v9uw",
        "outputId": "b42bb012-184f-42f9-ec04-574b77f947d6"
      },
      "execution_count": 18,
      "outputs": [
        {
          "output_type": "error",
          "ename": "TypeError",
          "evalue": "ignored",
          "traceback": [
            "\u001b[0;31m---------------------------------------------------------------------------\u001b[0m",
            "\u001b[0;31mTypeError\u001b[0m                                 Traceback (most recent call last)",
            "\u001b[0;32m<ipython-input-18-d76a0a25c5ae>\u001b[0m in \u001b[0;36m<module>\u001b[0;34m()\u001b[0m\n\u001b[0;32m----> 1\u001b[0;31m \u001b[0mset\u001b[0m\u001b[0;34m(\u001b[0m\u001b[0;34m\"123\"\u001b[0m\u001b[0;34m)\u001b[0m\u001b[0;34m+\u001b[0m\u001b[0mset\u001b[0m\u001b[0;34m(\u001b[0m\u001b[0;34m\"4\"\u001b[0m\u001b[0;34m)\u001b[0m\u001b[0;34m\u001b[0m\u001b[0;34m\u001b[0m\u001b[0m\n\u001b[0m",
            "\u001b[0;31mTypeError\u001b[0m: unsupported operand type(s) for +: 'set' and 'set'"
          ]
        }
      ]
    }
  ]
}