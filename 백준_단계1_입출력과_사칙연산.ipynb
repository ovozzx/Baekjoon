{
  "nbformat": 4,
  "nbformat_minor": 0,
  "metadata": {
    "colab": {
      "name": "백준_단계1_입출력과 사칙연산.ipynb",
      "provenance": [],
      "collapsed_sections": []
    },
    "kernelspec": {
      "name": "python3",
      "display_name": "Python 3"
    },
    "language_info": {
      "name": "python"
    }
  },
  "cells": [
    {
      "cell_type": "markdown",
      "source": [
        "# - split\n",
        "a = \"Life is too short\"\n",
        "\n",
        "a.split()  #공백 기준으로 나눔\n",
        "\n",
        "['Life', 'is', 'too', 'short']\n",
        "\n",
        "b = \"a:b:c:d\"\n",
        "\n",
        "b.split(':')\n",
        "\n",
        "['a', 'b', 'c', 'd']"
      ],
      "metadata": {
        "id": "ApTuahei62hN"
      }
    },
    {
      "cell_type": "markdown",
      "source": [
        "# - map\n",
        "map(A(적용 함수), B(반복 가능한 자료형(요소))) → 요소 B를 A 적용"
      ],
      "metadata": {
        "id": "P8GvlGxc7bTj"
      }
    },
    {
      "cell_type": "markdown",
      "source": [
        "# - input\n",
        "입력되는 모든 것을 문자열로 취급"
      ],
      "metadata": {
        "id": "vYMJD2Mg-EOX"
      }
    },
    {
      "cell_type": "code",
      "source": [
        "#\\\\ \\\" \\' -> 역슬래시 붙이면 그 문자 자체를 의미!\n",
        "\n",
        "print( \"\\\\    /\\\\\" )\n",
        "print( \"))  ( \\')\" )\n",
        "print( \"(  /  )\" )\n",
        "print(\"\\\\(__)|\")"
      ],
      "metadata": {
        "colab": {
          "base_uri": "https://localhost:8080/"
        },
        "id": "X07Lf42G-mwR",
        "outputId": "dd868c7b-bfc2-448c-ac6e-cbf25f15aa9f"
      },
      "execution_count": 21,
      "outputs": [
        {
          "output_type": "stream",
          "name": "stdout",
          "text": [
            "\\    /\\\n",
            "))  ( ')\n",
            "(  /  )\n",
            "\\(__)|\n"
          ]
        }
      ]
    },
    {
      "cell_type": "code",
      "execution_count": 1,
      "metadata": {
        "colab": {
          "base_uri": "https://localhost:8080/"
        },
        "id": "r43BArqz0fnf",
        "outputId": "0cb6cee7-bb66-4a4e-9162-caea6a4b24d0"
      },
      "outputs": [
        {
          "output_type": "stream",
          "name": "stdout",
          "text": [
            "1 2\n",
            "3\n"
          ]
        }
      ],
      "source": [
        "# input은 string으로 간주\n",
        "a, b = map(int, input().split()) #input을 int로 변환\n",
        "print(a+b)"
      ]
    },
    {
      "cell_type": "code",
      "source": [
        "a, b = map(int, input().split())\n",
        "print(a+b)\n",
        "print(a-b)\n",
        "print(a*b)\n",
        "print(a//b) # 몫\n",
        "print(a%b) # 나머지"
      ],
      "metadata": {
        "colab": {
          "base_uri": "https://localhost:8080/"
        },
        "id": "LcEqHTGh4Uvt",
        "outputId": "2cf51e17-a839-4b68-e47e-457c209bf255"
      },
      "execution_count": 2,
      "outputs": [
        {
          "output_type": "stream",
          "name": "stdout",
          "text": [
            "10 5\n",
            "15\n",
            "5\n",
            "50\n",
            "2\n",
            "0\n"
          ]
        }
      ]
    },
    {
      "cell_type": "code",
      "source": [
        "10/5"
      ],
      "metadata": {
        "colab": {
          "base_uri": "https://localhost:8080/"
        },
        "id": "5-TYu5TK0ig9",
        "outputId": "d933f1cc-5554-40c9-ffeb-acedd42bd150"
      },
      "execution_count": 3,
      "outputs": [
        {
          "output_type": "execute_result",
          "data": {
            "text/plain": [
              "2.0"
            ]
          },
          "metadata": {},
          "execution_count": 3
        }
      ]
    },
    {
      "cell_type": "code",
      "source": [
        "A, B, C = map(int, input().split())\n",
        "print((A+B)%C)\n",
        "print(((A%C) + (B%C))%C)\n",
        "print((A*B)%C)\n",
        "print(((A%C) * (B%C))%C)"
      ],
      "metadata": {
        "colab": {
          "base_uri": "https://localhost:8080/"
        },
        "id": "Hqe4bb0y5UVi",
        "outputId": "27b9c298-05fc-4255-f29e-ec4940ca5b13"
      },
      "execution_count": 4,
      "outputs": [
        {
          "output_type": "stream",
          "name": "stdout",
          "text": [
            "1 2 3\n",
            "0\n",
            "0\n",
            "2\n",
            "2\n"
          ]
        }
      ]
    },
    {
      "cell_type": "code",
      "source": [
        "A, B = input().split() #string\n",
        "print(int(A)*int(B[2]))\n",
        "print(int(A)*int(B[1]))\n",
        "print(int(A)*int(B[0]))\n",
        "print(int(A)*int(B))"
      ],
      "metadata": {
        "colab": {
          "base_uri": "https://localhost:8080/"
        },
        "id": "ZpdMzR_G7MSA",
        "outputId": "5bac4abb-7f4e-4247-9e75-0fe68c8fe882"
      },
      "execution_count": 6,
      "outputs": [
        {
          "output_type": "stream",
          "name": "stdout",
          "text": [
            "123 123\n",
            "369\n",
            "246\n",
            "123\n",
            "15129\n"
          ]
        }
      ]
    },
    {
      "cell_type": "code",
      "source": [
        "C = input(\"숫자를 입력하세요:\")\n",
        "D = input(\"숫자를 입력하세요:\")\n",
        "\n",
        "print(int(C)*int(D[2]))\n",
        "print(int(C)*int(D[1]))\n",
        "print(int(C)*int(D[0]))\n",
        "print(int(C)*int(D))"
      ],
      "metadata": {
        "colab": {
          "base_uri": "https://localhost:8080/"
        },
        "id": "VgWyeBeK-cLF",
        "outputId": "e22ddd7c-7cd3-4277-dc5b-b372792ea6ca"
      },
      "execution_count": 15,
      "outputs": [
        {
          "output_type": "stream",
          "name": "stdout",
          "text": [
            "숫자를 입력하세요:123\n",
            "숫자를 입력하세요:456\n",
            "738\n",
            "615\n",
            "492\n",
            "56088\n"
          ]
        }
      ]
    },
    {
      "cell_type": "code",
      "source": [
        "type(C)"
      ],
      "metadata": {
        "colab": {
          "base_uri": "https://localhost:8080/"
        },
        "id": "0ua2WaQR8042",
        "outputId": "3a38196a-6427-4c21-e94e-9f94ca9d03b2"
      },
      "execution_count": 13,
      "outputs": [
        {
          "output_type": "execute_result",
          "data": {
            "text/plain": [
              "str"
            ]
          },
          "metadata": {},
          "execution_count": 13
        }
      ]
    },
    {
      "cell_type": "code",
      "source": [
        "C[0]"
      ],
      "metadata": {
        "colab": {
          "base_uri": "https://localhost:8080/",
          "height": 35
        },
        "id": "d69-ZVpA9weC",
        "outputId": "64639b10-c0f3-4b84-e9f5-1e9fc19090c5"
      },
      "execution_count": 14,
      "outputs": [
        {
          "output_type": "execute_result",
          "data": {
            "application/vnd.google.colaboratory.intrinsic+json": {
              "type": "string"
            },
            "text/plain": [
              "'1'"
            ]
          },
          "metadata": {},
          "execution_count": 14
        }
      ]
    }
  ]
}